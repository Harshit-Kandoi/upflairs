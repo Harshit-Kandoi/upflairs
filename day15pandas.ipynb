{
 "cells": [
  {
   "cell_type": "code",
   "execution_count": 4,
   "id": "30090486-924b-4425-affa-2405df7c00ac",
   "metadata": {},
   "outputs": [],
   "source": [
    "import numpy as np\n",
    "import pandas as pd"
   ]
  },
  {
   "cell_type": "code",
   "execution_count": 8,
   "id": "e328a88c-15a8-4ebf-8506-437e4ff75272",
   "metadata": {},
   "outputs": [
    {
     "data": {
      "text/plain": [
       "array([153, 194, 188,   2, 179,  38, 234, 235,  61, 233, 104,  81, 204,\n",
       "       218,  68,  29,  77, 158, 297, 129, 107,  15, 258, 114,  55,  21,\n",
       "       296, 220, 112, 160, 227, 255, 295, 246, 245, 104, 237,  77, 196,\n",
       "        72,  55, 220,  54, 238, 273, 214, 220, 146, 240, 133, 295,   4,\n",
       "       229, 232,  83, 294, 162,   1, 294,  32,  76, 254,  71, 124,  20,\n",
       "       201, 269, 236,   3,  78, 194, 239, 123,  61, 296,  20,   3, 189,\n",
       "        63,   6, 201, 221,  33, 137,  62, 248, 237, 242, 298, 194, 166,\n",
       "       101, 132, 150,  19, 107, 258, 291,  90,  13, 128, 256, 144,  24,\n",
       "       138, 126, 290,  36, 146,  24, 107, 256, 121,  72,  35, 152, 211,\n",
       "        75,  22, 147, 214, 205, 234,  98, 151,  86, 256,  56, 290, 260,\n",
       "       193, 281,  67, 187,  82, 259, 239, 260, 281, 162, 218,  89,  47,\n",
       "        58, 164, 151, 212, 106,  28, 208,  28, 176, 239,  31, 169, 285,\n",
       "       177,  89, 146, 187,  19, 274, 108,  32, 239, 134,  98, 256, 273,\n",
       "        18, 283, 193, 175, 284, 215, 219, 285, 123, 179,  20, 155, 204,\n",
       "       134, 288,  69, 110, 274, 214, 166, 109, 193,  78, 107,  66, 147,\n",
       "       129,   3, 259, 235, 273,  17, 267,  50, 136, 276,  36, 261,   5,\n",
       "       145,  90,  78, 122, 248,  10, 195, 132,  65, 164,  60,  24, 132,\n",
       "       260, 152, 239,  36, 219, 279, 273,  18, 144, 136, 140,  87, 280,\n",
       "       218, 158, 224, 222, 223, 255,  82, 253,  24, 277, 272, 293,  24,\n",
       "        78,  86, 140, 114, 279, 189,  53, 286, 253,  11, 272,  13, 118,\n",
       "        44, 286, 164, 223, 214, 113, 200, 268,  25, 291,  24,  13,  59,\n",
       "       131, 183, 162,  52,  56, 189, 150, 229, 223, 253, 186, 137, 156,\n",
       "        55,  39,  46,  18, 211, 165, 143,  74, 112,  50,  49,  15,  14,\n",
       "        36,  50,   5,  38, 137, 143,   7, 174,  78,  92, 222, 241, 177,\n",
       "        22, 142,  45, 175,  96, 162,  62, 104,  30, 233, 105, 221,  27,\n",
       "       144, 268, 203,  27, 287,  95, 121, 260, 211, 107,  10, 297, 167,\n",
       "       100,  17, 121,  46,  54, 290, 184,  78, 298,  49, 184, 194, 151,\n",
       "        17,  81, 220, 291, 252, 157,  82, 130, 156,  75, 113, 195, 118,\n",
       "        43, 214, 136,  27, 295, 136, 194,  38, 254, 222,  48, 167, 281,\n",
       "       238, 121,  74,  32,   7, 262, 140, 107, 111, 256, 185, 164, 224,\n",
       "       130,  26,  83, 268, 168,  72, 250, 162, 100,  10, 275, 157, 216,\n",
       "        94,   7,  61,  55, 149, 134,  17, 197,  68,   5,   6, 135, 156,\n",
       "       187,  42, 140, 216, 252,   7, 242, 171,  45, 206,  34, 133,  10,\n",
       "       299, 194,  11,  17,  99, 293,  39, 175, 163,  56,  82, 264, 109,\n",
       "        41,  23,  85, 283, 130, 257, 237, 238, 274,  60,  95,  34, 209,\n",
       "       126, 200, 193,  10,  98,  16, 243, 186, 279, 102,  20, 298, 252,\n",
       "       145, 203, 126, 158, 126, 239, 159, 207,  56, 210, 128,  99, 222,\n",
       "       270,  58, 299, 163,   5, 204,  92, 297, 121,  56, 144, 269, 179,\n",
       "       252, 281, 249, 186, 150, 157])"
      ]
     },
     "execution_count": 8,
     "metadata": {},
     "output_type": "execute_result"
    }
   ],
   "source": [
    "arr = np.random.randint(1,300,500)\n",
    "arr"
   ]
  },
  {
   "cell_type": "code",
   "execution_count": 20,
   "id": "37141416-f644-4998-8acb-0a2d5ebf69f8",
   "metadata": {},
   "outputs": [
    {
     "name": "stdout",
     "output_type": "stream",
     "text": [
      "[ 52  53  54  54  55  55  55  55  56  56  56  56  56  58  58  59  60  60\n",
      "  61  61  61  62  62  63  65  66  67  68  68  69  71  72  72  72  74  74\n",
      "  75  75  76  77  77  78  78  78  78  78  78  81  81  82  82  82  82  83\n",
      "  83  85  86  86  87  89  89  90  90  92  92  94  95  95  96  98  98  98\n",
      "  99  99 100 100 101 102 104 104 104 105 106 107 107 107 107 107 107 108\n",
      " 109 109 110 111 112 112 113 113 114 114 118 118 121 121 121 121 121 122\n",
      " 123 123 124 126 126 126 126 128 128 129 129 130 130 130 131 132 132 132\n",
      " 133 133 134 134 134 135 136 136 136 136 137 137 137 138 140 140 140 140\n",
      " 142 143 143 144 144 144 144 145 145 146 146 146 147 147 149]\n",
      "101.69811320754717\n",
      "159\n"
     ]
    }
   ],
   "source": [
    "arr2=arr[(arr>50)&(arr<150)]\n",
    "print(arr2)\n",
    "print(arr2.mean())\n",
    "print(arr2.size)"
   ]
  },
  {
   "cell_type": "code",
   "execution_count": 22,
   "id": "0e51374f-54d6-47d9-a187-6c03cde6443a",
   "metadata": {},
   "outputs": [],
   "source": [
    "# data frame create using dictionary\n",
    "\n",
    "data = {\"Name\":['Rishi','Harshit','Kartik','Yash'],\n",
    "        \"Subject\":['phy','chem','bio','math'],\n",
    "        \"college\":['poornima','bkbiet','lord','jecrc']}"
   ]
  },
  {
   "cell_type": "code",
   "execution_count": 24,
   "id": "8847fbbc-3276-4e6f-ad6c-2e8bbf0cce98",
   "metadata": {},
   "outputs": [
    {
     "data": {
      "text/html": [
       "<div>\n",
       "<style scoped>\n",
       "    .dataframe tbody tr th:only-of-type {\n",
       "        vertical-align: middle;\n",
       "    }\n",
       "\n",
       "    .dataframe tbody tr th {\n",
       "        vertical-align: top;\n",
       "    }\n",
       "\n",
       "    .dataframe thead th {\n",
       "        text-align: right;\n",
       "    }\n",
       "</style>\n",
       "<table border=\"1\" class=\"dataframe\">\n",
       "  <thead>\n",
       "    <tr style=\"text-align: right;\">\n",
       "      <th></th>\n",
       "      <th>Name</th>\n",
       "      <th>Subject</th>\n",
       "      <th>college</th>\n",
       "    </tr>\n",
       "  </thead>\n",
       "  <tbody>\n",
       "    <tr>\n",
       "      <th>0</th>\n",
       "      <td>Rishi</td>\n",
       "      <td>phy</td>\n",
       "      <td>poornima</td>\n",
       "    </tr>\n",
       "    <tr>\n",
       "      <th>1</th>\n",
       "      <td>Harshit</td>\n",
       "      <td>chem</td>\n",
       "      <td>bkbiet</td>\n",
       "    </tr>\n",
       "    <tr>\n",
       "      <th>2</th>\n",
       "      <td>Kartik</td>\n",
       "      <td>bio</td>\n",
       "      <td>lord</td>\n",
       "    </tr>\n",
       "    <tr>\n",
       "      <th>3</th>\n",
       "      <td>Yash</td>\n",
       "      <td>math</td>\n",
       "      <td>jecrc</td>\n",
       "    </tr>\n",
       "  </tbody>\n",
       "</table>\n",
       "</div>"
      ],
      "text/plain": [
       "      Name Subject   college\n",
       "0    Rishi     phy  poornima\n",
       "1  Harshit    chem    bkbiet\n",
       "2   Kartik     bio      lord\n",
       "3     Yash    math     jecrc"
      ]
     },
     "execution_count": 24,
     "metadata": {},
     "output_type": "execute_result"
    }
   ],
   "source": [
    "df = pd.DataFrame(data)\n",
    "df"
   ]
  },
  {
   "cell_type": "code",
   "execution_count": 26,
   "id": "161fefbe-2529-4399-8d61-a16d5260950b",
   "metadata": {},
   "outputs": [
    {
     "data": {
      "text/plain": [
       "pandas.core.frame.DataFrame"
      ]
     },
     "execution_count": 26,
     "metadata": {},
     "output_type": "execute_result"
    }
   ],
   "source": [
    "type(df)"
   ]
  },
  {
   "cell_type": "code",
   "execution_count": 30,
   "id": "91b83f06-7fcc-414a-bcfd-f2d11200f36a",
   "metadata": {},
   "outputs": [
    {
     "data": {
      "text/plain": [
       "0      Rishi\n",
       "1    Harshit\n",
       "2     Kartik\n",
       "3       Yash\n",
       "Name: Name, dtype: object"
      ]
     },
     "execution_count": 30,
     "metadata": {},
     "output_type": "execute_result"
    }
   ],
   "source": [
    "df['Name']"
   ]
  },
  {
   "cell_type": "code",
   "execution_count": 32,
   "id": "fb5f29e4-a7f7-41c3-85fa-fc5a8d2a93fc",
   "metadata": {},
   "outputs": [
    {
     "data": {
      "text/plain": [
       "pandas.core.series.Series"
      ]
     },
     "execution_count": 32,
     "metadata": {},
     "output_type": "execute_result"
    }
   ],
   "source": [
    "type(df['Name'])"
   ]
  },
  {
   "cell_type": "code",
   "execution_count": null,
   "id": "943ccf43-d9ba-4021-8a6f-8d0150c6c52a",
   "metadata": {},
   "outputs": [],
   "source": []
  },
  {
   "cell_type": "code",
   "execution_count": null,
   "id": "54e806d9-70e9-442d-b7af-55ca45a6f7fe",
   "metadata": {},
   "outputs": [],
   "source": []
  }
 ],
 "metadata": {
  "kernelspec": {
   "display_name": "Python 3 (ipykernel)",
   "language": "python",
   "name": "python3"
  },
  "language_info": {
   "codemirror_mode": {
    "name": "ipython",
    "version": 3
   },
   "file_extension": ".py",
   "mimetype": "text/x-python",
   "name": "python",
   "nbconvert_exporter": "python",
   "pygments_lexer": "ipython3",
   "version": "3.12.4"
  }
 },
 "nbformat": 4,
 "nbformat_minor": 5
}
