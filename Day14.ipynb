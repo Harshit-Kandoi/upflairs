{
 "cells": [
  {
   "cell_type": "code",
   "execution_count": 2,
   "id": "bd3c7124-8d28-41bb-b8d7-4f0c98c90410",
   "metadata": {},
   "outputs": [],
   "source": [
    "import numpy as np"
   ]
  },
  {
   "cell_type": "code",
   "execution_count": 4,
   "id": "7350ff81-aa29-4799-9a34-89834000a27f",
   "metadata": {},
   "outputs": [
    {
     "data": {
      "text/plain": [
       "array([[[  1,  54,  27,   3,  19, 118],\n",
       "        [186, 160,  51,  80,  78,  66],\n",
       "        [ 51, 157, 162,  63, 114, 139],\n",
       "        [163,  57, 166, 152,  97, 148],\n",
       "        [127,  99, 106, 182, 184, 171],\n",
       "        [142,  28, 125, 168,   6, 199],\n",
       "        [142, 187,  61, 130,  42,  38],\n",
       "        [  3, 149, 152, 167,  89,  45],\n",
       "        [143,  27,  94, 191, 139, 179],\n",
       "        [ 68, 131, 185, 106,  96,  13]],\n",
       "\n",
       "       [[169, 113, 127, 188,  11, 143],\n",
       "        [ 62, 108,   4, 117,  71,  84],\n",
       "        [166, 135, 155,  18, 118, 116],\n",
       "        [  6, 113, 197,   1, 118,  50],\n",
       "        [122,  40,  81, 189, 110, 170],\n",
       "        [184, 126,  93,  23,  68,  94],\n",
       "        [166, 134,  65,  69,  87, 186],\n",
       "        [139,  13,  81, 176,  19,  11],\n",
       "        [150, 135, 178,  94, 103,   9],\n",
       "        [195,  28, 183,  68,  39,  25]],\n",
       "\n",
       "       [[ 88, 107,  36, 151, 128, 132],\n",
       "        [ 59,  48, 186, 183,  15,  89],\n",
       "        [161, 130,  77, 132,  40,  22],\n",
       "        [ 14, 100,  76, 123,  56, 196],\n",
       "        [177,  53, 182,  36, 131, 185],\n",
       "        [ 27, 110, 185, 155,   4, 121],\n",
       "        [ 17,  55,  16, 119, 144,  96],\n",
       "        [131, 163,  49,  42, 106,  80],\n",
       "        [ 40,  36, 132,  29,  29, 193],\n",
       "        [ 50,  46, 129, 158, 139,  69]],\n",
       "\n",
       "       [[ 92, 110,  76, 148,  21,  65],\n",
       "        [ 49, 168, 103, 144,  12, 195],\n",
       "        [175,  48,  84, 154,  58,  11],\n",
       "        [126, 154,   5,  89,  17,  30],\n",
       "        [ 38, 182,  47, 160, 146, 144],\n",
       "        [155, 178,  14,  61,  99,  67],\n",
       "        [166,  76, 119, 182, 148, 167],\n",
       "        [195, 157, 157, 135, 150,   3],\n",
       "        [ 75,  92, 118, 177, 179,  36],\n",
       "        [144,  24,  88, 132,  62,  29]],\n",
       "\n",
       "       [[144, 157, 153,  50,  21,  96],\n",
       "        [ 43,  80, 146, 171, 107, 135],\n",
       "        [165,  58, 175, 185, 100,  41],\n",
       "        [ 15,  80, 173,  53,  70,  65],\n",
       "        [ 99, 190,  81, 107,  50,  22],\n",
       "        [141, 164, 140,  90,  86, 122],\n",
       "        [ 52,  90, 164,  55, 185, 157],\n",
       "        [ 64, 148,  60, 187,  32, 119],\n",
       "        [ 47,  82, 192,  85,  93,  43],\n",
       "        [181,  70, 138, 180, 162,  97]]])"
      ]
     },
     "execution_count": 4,
     "metadata": {},
     "output_type": "execute_result"
    }
   ],
   "source": [
    "arr3d = np.random.randint(1,200,(5,10,6))\n",
    "arr3d"
   ]
  },
  {
   "cell_type": "code",
   "execution_count": 6,
   "id": "1b568c13-c594-4687-a481-5c00508bf03a",
   "metadata": {},
   "outputs": [
    {
     "data": {
      "text/plain": [
       "(5, 10, 6)"
      ]
     },
     "execution_count": 6,
     "metadata": {},
     "output_type": "execute_result"
    }
   ],
   "source": [
    "arr3d.shape"
   ]
  },
  {
   "cell_type": "code",
   "execution_count": 8,
   "id": "973f764f-4c00-47cd-ad96-c4bbb4f25f46",
   "metadata": {},
   "outputs": [
    {
     "data": {
      "text/plain": [
       "3"
      ]
     },
     "execution_count": 8,
     "metadata": {},
     "output_type": "execute_result"
    }
   ],
   "source": [
    "arr3d.ndim"
   ]
  },
  {
   "cell_type": "code",
   "execution_count": 10,
   "id": "31a6dc89-e64e-45c7-b83f-d86a07613f6f",
   "metadata": {},
   "outputs": [
    {
     "data": {
      "text/plain": [
       "array([[  1,  54,  27,   3,  19, 118],\n",
       "       [186, 160,  51,  80,  78,  66],\n",
       "       [ 51, 157, 162,  63, 114, 139],\n",
       "       [163,  57, 166, 152,  97, 148],\n",
       "       [127,  99, 106, 182, 184, 171],\n",
       "       [142,  28, 125, 168,   6, 199],\n",
       "       [142, 187,  61, 130,  42,  38],\n",
       "       [  3, 149, 152, 167,  89,  45],\n",
       "       [143,  27,  94, 191, 139, 179],\n",
       "       [ 68, 131, 185, 106,  96,  13]])"
      ]
     },
     "execution_count": 10,
     "metadata": {},
     "output_type": "execute_result"
    }
   ],
   "source": [
    "arr3d[0]"
   ]
  },
  {
   "cell_type": "code",
   "execution_count": null,
   "id": "64d96701-97b3-4840-93f1-b2529e2c8d01",
   "metadata": {},
   "outputs": [],
   "source": [
    "#arr[row,column] = 2d\n",
    "#arr[table,row,column] = 3d\n",
    "#arr 3d = [s:s:j, s:s:j, s:s:j]"
   ]
  },
  {
   "cell_type": "code",
   "execution_count": 12,
   "id": "28d962ef-4746-4f60-9ca2-d37a71b75b59",
   "metadata": {},
   "outputs": [
    {
     "data": {
      "text/plain": [
       "array([[  1,  54,  27,   3,  19, 118],\n",
       "       [186, 160,  51,  80,  78,  66],\n",
       "       [ 51, 157, 162,  63, 114, 139],\n",
       "       [163,  57, 166, 152,  97, 148],\n",
       "       [127,  99, 106, 182, 184, 171],\n",
       "       [142,  28, 125, 168,   6, 199],\n",
       "       [142, 187,  61, 130,  42,  38],\n",
       "       [  3, 149, 152, 167,  89,  45],\n",
       "       [143,  27,  94, 191, 139, 179],\n",
       "       [ 68, 131, 185, 106,  96,  13]])"
      ]
     },
     "execution_count": 12,
     "metadata": {},
     "output_type": "execute_result"
    }
   ],
   "source": [
    "arr3d[0]"
   ]
  },
  {
   "cell_type": "code",
   "execution_count": 14,
   "id": "f2b9e5f0-dd4e-485b-bd92-51cd92bb3539",
   "metadata": {},
   "outputs": [
    {
     "data": {
      "text/plain": [
       "array([[  1,  54,  27,   3,  19, 118],\n",
       "       [186, 160,  51,  80,  78,  66],\n",
       "       [ 51, 157, 162,  63, 114, 139],\n",
       "       [163,  57, 166, 152,  97, 148],\n",
       "       [127,  99, 106, 182, 184, 171],\n",
       "       [142,  28, 125, 168,   6, 199],\n",
       "       [142, 187,  61, 130,  42,  38],\n",
       "       [  3, 149, 152, 167,  89,  45],\n",
       "       [143,  27,  94, 191, 139, 179],\n",
       "       [ 68, 131, 185, 106,  96,  13]])"
      ]
     },
     "execution_count": 14,
     "metadata": {},
     "output_type": "execute_result"
    }
   ],
   "source": [
    "arr3d[-5]"
   ]
  },
  {
   "cell_type": "code",
   "execution_count": 16,
   "id": "d5c9d029-a97c-4497-9789-eb352cd4e6f5",
   "metadata": {},
   "outputs": [
    {
     "data": {
      "text/plain": [
       "array([[166, 134,  65,  69,  87, 186],\n",
       "       [139,  13,  81, 176,  19,  11],\n",
       "       [150, 135, 178,  94, 103,   9],\n",
       "       [195,  28, 183,  68,  39,  25]])"
      ]
     },
     "execution_count": 16,
     "metadata": {},
     "output_type": "execute_result"
    }
   ],
   "source": [
    "arr3d[1,6:]"
   ]
  },
  {
   "cell_type": "code",
   "execution_count": 18,
   "id": "c2ed7077-982d-4dcc-9ca8-83d3cc2396a7",
   "metadata": {},
   "outputs": [
    {
     "data": {
      "text/plain": [
       "array([[[142, 187,  61, 130,  42,  38],\n",
       "        [  3, 149, 152, 167,  89,  45],\n",
       "        [143,  27,  94, 191, 139, 179],\n",
       "        [ 68, 131, 185, 106,  96,  13]],\n",
       "\n",
       "       [[166, 134,  65,  69,  87, 186],\n",
       "        [139,  13,  81, 176,  19,  11],\n",
       "        [150, 135, 178,  94, 103,   9],\n",
       "        [195,  28, 183,  68,  39,  25]],\n",
       "\n",
       "       [[ 17,  55,  16, 119, 144,  96],\n",
       "        [131, 163,  49,  42, 106,  80],\n",
       "        [ 40,  36, 132,  29,  29, 193],\n",
       "        [ 50,  46, 129, 158, 139,  69]],\n",
       "\n",
       "       [[166,  76, 119, 182, 148, 167],\n",
       "        [195, 157, 157, 135, 150,   3],\n",
       "        [ 75,  92, 118, 177, 179,  36],\n",
       "        [144,  24,  88, 132,  62,  29]],\n",
       "\n",
       "       [[ 52,  90, 164,  55, 185, 157],\n",
       "        [ 64, 148,  60, 187,  32, 119],\n",
       "        [ 47,  82, 192,  85,  93,  43],\n",
       "        [181,  70, 138, 180, 162,  97]]])"
      ]
     },
     "execution_count": 18,
     "metadata": {},
     "output_type": "execute_result"
    }
   ],
   "source": [
    "arr3d[0:5,6:]"
   ]
  },
  {
   "cell_type": "code",
   "execution_count": 26,
   "id": "645a3bfc-91c9-4f17-a5ad-09827659f389",
   "metadata": {},
   "outputs": [
    {
     "data": {
      "text/plain": [
       "array([[[ 68, 131, 185, 106,  96,  13]],\n",
       "\n",
       "       [[195,  28, 183,  68,  39,  25]],\n",
       "\n",
       "       [[ 50,  46, 129, 158, 139,  69]],\n",
       "\n",
       "       [[144,  24,  88, 132,  62,  29]],\n",
       "\n",
       "       [[181,  70, 138, 180, 162,  97]]])"
      ]
     },
     "execution_count": 26,
     "metadata": {},
     "output_type": "execute_result"
    }
   ],
   "source": [
    "arr3d[0:5,-1:]"
   ]
  },
  {
   "cell_type": "code",
   "execution_count": 38,
   "id": "35999dba-258c-4148-b624-410cd652d0db",
   "metadata": {},
   "outputs": [
    {
     "data": {
      "text/plain": [
       "array([[[  1,  54,  27,   3,  19, 118],\n",
       "        [186, 160,  51,  80,  78,  66],\n",
       "        [ 51, 157, 162,  63, 114, 139],\n",
       "        [163,  57, 166, 152,  97, 148],\n",
       "        [127,  99, 106, 182, 184, 171],\n",
       "        [142,  28, 125, 168,   6, 199],\n",
       "        [142, 187,  61, 130,  42,  38],\n",
       "        [  3, 149, 152, 167,  89,  45],\n",
       "        [143,  27,  94, 191, 139, 179],\n",
       "        [ 68, 131, 185, 106,  96,  13]],\n",
       "\n",
       "       [[169, 113, 127, 188,  11, 143],\n",
       "        [ 62, 108,   4, 117,  71,  84],\n",
       "        [166, 135, 155,  18, 118, 116],\n",
       "        [  6, 113, 197,   1, 118,  50],\n",
       "        [122,  40,  81, 189, 110, 170],\n",
       "        [184, 126,  93,  23,  68,  94],\n",
       "        [166, 134,  65,  69,  87, 186],\n",
       "        [139,  13,  81, 176,  19,  11],\n",
       "        [150, 135, 178,  94, 103,   9],\n",
       "        [195,  28, 183,  68,  39,  25]],\n",
       "\n",
       "       [[ 88, 107,  36, 151, 128, 132],\n",
       "        [ 59,  48, 186, 183,  15,  89],\n",
       "        [161, 130,  77, 132,  40,  22],\n",
       "        [ 14, 100,  76, 123,  56, 196],\n",
       "        [177,  53, 182,  36, 131, 185],\n",
       "        [ 27, 110, 185, 155,   4, 121],\n",
       "        [ 17,  55,  16, 119, 144,  96],\n",
       "        [131, 163,  49,  42, 106,  80],\n",
       "        [ 40,  36, 132,  29,  29, 193],\n",
       "        [ 50,  46, 129, 158, 139,  69]],\n",
       "\n",
       "       [[ 92, 110,  76, 148,  21,  65],\n",
       "        [ 49, 168, 103, 144,  12, 195],\n",
       "        [175,  48,  84, 154,  58,  11],\n",
       "        [126, 154,   5,  89,  17,  30],\n",
       "        [ 38, 182,  47, 160, 146, 144],\n",
       "        [155, 178,  14,  61,  99,  67],\n",
       "        [166,  76, 119, 182, 148, 167],\n",
       "        [195, 157, 157, 135, 150,   3],\n",
       "        [ 75,  92, 118, 177, 179,  36],\n",
       "        [144,  24,  88, 132,  62,  29]],\n",
       "\n",
       "       [[144, 157, 153,  50,  21,  96],\n",
       "        [ 43,  80, 146, 171, 107, 135],\n",
       "        [165,  58, 175, 185, 100,  41],\n",
       "        [ 15,  80, 173,  53,  70,  65],\n",
       "        [ 99, 190,  81, 107,  50,  22],\n",
       "        [141, 164, 140,  90,  86, 122],\n",
       "        [ 52,  90, 164,  55, 185, 157],\n",
       "        [ 64, 148,  60, 187,  32, 119],\n",
       "        [ 47,  82, 192,  85,  93,  43],\n",
       "        [181,  70, 138, 180, 162, 500]]])"
      ]
     },
     "execution_count": 38,
     "metadata": {},
     "output_type": "execute_result"
    }
   ],
   "source": [
    "arr3d[4,-1:,-1] = 500\n",
    "arr3d"
   ]
  },
  {
   "cell_type": "code",
   "execution_count": 40,
   "id": "01218e4d-4811-42ea-aa97-20d71ee35181",
   "metadata": {},
   "outputs": [
    {
     "data": {
      "text/plain": [
       "array([500])"
      ]
     },
     "execution_count": 40,
     "metadata": {},
     "output_type": "execute_result"
    }
   ],
   "source": [
    "arr3d[4,-1:,-1]"
   ]
  },
  {
   "cell_type": "code",
   "execution_count": 46,
   "id": "ea6207fd-33fb-40f2-928c-5baa9160cb13",
   "metadata": {},
   "outputs": [
    {
     "data": {
      "text/plain": [
       "array([ 0,  1,  2,  3,  4,  5,  6,  7,  8,  9, 10, 11, 12, 13, 14, 15, 16,\n",
       "       17, 18, 19, 20, 21, 22, 23, 24, 25, 26, 27, 28, 29, 30, 31, 32, 33,\n",
       "       34, 35, 36, 37, 38, 39, 40, 41, 42, 43, 44, 45, 46, 47, 48, 49, 50,\n",
       "       51, 52, 53, 54, 55, 56, 57, 58, 59])"
      ]
     },
     "execution_count": 46,
     "metadata": {},
     "output_type": "execute_result"
    }
   ],
   "source": [
    "arr = np.arange(60)\n",
    "arr"
   ]
  },
  {
   "cell_type": "code",
   "execution_count": 48,
   "id": "e813c26a-cf05-4985-823d-670b0f3750a5",
   "metadata": {},
   "outputs": [
    {
     "data": {
      "text/plain": [
       "array([[ 0,  1,  2],\n",
       "       [ 3,  4,  5],\n",
       "       [ 6,  7,  8],\n",
       "       [ 9, 10, 11],\n",
       "       [12, 13, 14],\n",
       "       [15, 16, 17],\n",
       "       [18, 19, 20],\n",
       "       [21, 22, 23],\n",
       "       [24, 25, 26],\n",
       "       [27, 28, 29],\n",
       "       [30, 31, 32],\n",
       "       [33, 34, 35],\n",
       "       [36, 37, 38],\n",
       "       [39, 40, 41],\n",
       "       [42, 43, 44],\n",
       "       [45, 46, 47],\n",
       "       [48, 49, 50],\n",
       "       [51, 52, 53],\n",
       "       [54, 55, 56],\n",
       "       [57, 58, 59]])"
      ]
     },
     "execution_count": 48,
     "metadata": {},
     "output_type": "execute_result"
    }
   ],
   "source": [
    "arr.reshape(20,3)"
   ]
  },
  {
   "cell_type": "code",
   "execution_count": 56,
   "id": "9b1fcf0c-ad5a-4ddd-986a-3dd74c5aa320",
   "metadata": {},
   "outputs": [
    {
     "data": {
      "text/plain": [
       "array([[[ 0,  1],\n",
       "        [ 2,  3],\n",
       "        [ 4,  5],\n",
       "        [ 6,  7],\n",
       "        [ 8,  9],\n",
       "        [10, 11],\n",
       "        [12, 13],\n",
       "        [14, 15],\n",
       "        [16, 17],\n",
       "        [18, 19],\n",
       "        [20, 21],\n",
       "        [22, 23],\n",
       "        [24, 25],\n",
       "        [26, 27],\n",
       "        [28, 29]],\n",
       "\n",
       "       [[30, 31],\n",
       "        [32, 33],\n",
       "        [34, 35],\n",
       "        [36, 37],\n",
       "        [38, 39],\n",
       "        [40, 41],\n",
       "        [42, 43],\n",
       "        [44, 45],\n",
       "        [46, 47],\n",
       "        [48, 49],\n",
       "        [50, 51],\n",
       "        [52, 53],\n",
       "        [54, 55],\n",
       "        [56, 57],\n",
       "        [58, 59]]])"
      ]
     },
     "execution_count": 56,
     "metadata": {},
     "output_type": "execute_result"
    }
   ],
   "source": [
    "arr2 = arr.reshape(2,15,2)\n",
    "arr2"
   ]
  },
  {
   "cell_type": "code",
   "execution_count": 58,
   "id": "e857716a-133a-445e-8c07-91955c65c21a",
   "metadata": {},
   "outputs": [
    {
     "data": {
      "text/plain": [
       "array([ 0,  1,  2,  3,  4,  5,  6,  7,  8,  9, 10, 11, 12, 13, 14, 15, 16,\n",
       "       17, 18, 19, 20, 21, 22, 23, 24, 25, 26, 27, 28, 29, 30, 31, 32, 33,\n",
       "       34, 35, 36, 37, 38, 39, 40, 41, 42, 43, 44, 45, 46, 47, 48, 49, 50,\n",
       "       51, 52, 53, 54, 55, 56, 57, 58, 59])"
      ]
     },
     "execution_count": 58,
     "metadata": {},
     "output_type": "execute_result"
    }
   ],
   "source": [
    "arr2.ravel()"
   ]
  },
  {
   "cell_type": "code",
   "execution_count": 60,
   "id": "73554445-9951-4c9b-84ed-03f9051e31ca",
   "metadata": {},
   "outputs": [
    {
     "data": {
      "text/plain": [
       "array([ 0,  1,  2,  3,  4,  5,  6,  7,  8,  9, 10, 11, 12, 13, 14, 15, 16,\n",
       "       17, 18, 19, 20, 21, 22, 23, 24, 25, 26, 27, 28, 29, 30, 31, 32, 33,\n",
       "       34, 35, 36, 37, 38, 39, 40, 41, 42, 43, 44, 45, 46, 47, 48, 49, 50,\n",
       "       51, 52, 53, 54, 55, 56, 57, 58, 59])"
      ]
     },
     "execution_count": 60,
     "metadata": {},
     "output_type": "execute_result"
    }
   ],
   "source": [
    "arr2.flatten()"
   ]
  },
  {
   "cell_type": "code",
   "execution_count": 62,
   "id": "fae68447-9ab8-4dee-a2f3-3f0ac4c09bb5",
   "metadata": {},
   "outputs": [
    {
     "data": {
      "text/plain": [
       "array([[ 86, 110,  69],\n",
       "       [118, 140, 197],\n",
       "       [159, 184,  49],\n",
       "       [193,  52, 119],\n",
       "       [  5, 143, 129]])"
      ]
     },
     "execution_count": 62,
     "metadata": {},
     "output_type": "execute_result"
    }
   ],
   "source": [
    "arr4 = np.random.randint(1,200,(5,3))\n",
    "arr4"
   ]
  },
  {
   "cell_type": "code",
   "execution_count": 64,
   "id": "73b25eb8-3174-49eb-924a-d69eafa6052a",
   "metadata": {},
   "outputs": [
    {
     "data": {
      "text/plain": [
       "array([[ 86, 118, 159, 193,   5],\n",
       "       [110, 140, 184,  52, 143],\n",
       "       [ 69, 197,  49, 119, 129]])"
      ]
     },
     "execution_count": 64,
     "metadata": {},
     "output_type": "execute_result"
    }
   ],
   "source": [
    "np.transpose(arr4)"
   ]
  },
  {
   "cell_type": "code",
   "execution_count": 66,
   "id": "345dd5f2-17cb-479b-83ca-68cf03b090ba",
   "metadata": {},
   "outputs": [
    {
     "data": {
      "text/plain": [
       "array([[ 86, 118, 159, 193,   5],\n",
       "       [110, 140, 184,  52, 143],\n",
       "       [ 69, 197,  49, 119, 129]])"
      ]
     },
     "execution_count": 66,
     "metadata": {},
     "output_type": "execute_result"
    }
   ],
   "source": [
    "arr4.T"
   ]
  },
  {
   "cell_type": "code",
   "execution_count": 70,
   "id": "fd392068-de72-430f-accb-a9fcdacf488b",
   "metadata": {},
   "outputs": [
    {
     "data": {
      "text/plain": [
       "array([ 86, 110,  69, 118, 140, 197, 159, 184,  49, 193,  52, 119,   5,\n",
       "       143, 129])"
      ]
     },
     "execution_count": 70,
     "metadata": {},
     "output_type": "execute_result"
    }
   ],
   "source": [
    "arr4d = arr4.flatten()\n",
    "arr4d"
   ]
  },
  {
   "cell_type": "code",
   "execution_count": 72,
   "id": "4163e2b6-4999-41bb-bffe-72930f51609b",
   "metadata": {},
   "outputs": [
    {
     "data": {
      "text/plain": [
       "197"
      ]
     },
     "execution_count": 72,
     "metadata": {},
     "output_type": "execute_result"
    }
   ],
   "source": [
    "arr4d.max()"
   ]
  },
  {
   "cell_type": "code",
   "execution_count": 74,
   "id": "500f34f3-045f-413b-b384-f3261b8491d0",
   "metadata": {},
   "outputs": [
    {
     "data": {
      "text/plain": [
       "5"
      ]
     },
     "execution_count": 74,
     "metadata": {},
     "output_type": "execute_result"
    }
   ],
   "source": [
    "arr4d.min()"
   ]
  },
  {
   "cell_type": "code",
   "execution_count": 76,
   "id": "737e7208-125e-4767-bfaf-c17ead348fe3",
   "metadata": {},
   "outputs": [
    {
     "data": {
      "text/plain": [
       "116.86666666666666"
      ]
     },
     "execution_count": 76,
     "metadata": {},
     "output_type": "execute_result"
    }
   ],
   "source": [
    "arr4d.mean()"
   ]
  },
  {
   "cell_type": "code",
   "execution_count": 80,
   "id": "dc444eb2-0415-4e1d-a7c2-02ab85d294ce",
   "metadata": {},
   "outputs": [
    {
     "data": {
      "text/plain": [
       "119.0"
      ]
     },
     "execution_count": 80,
     "metadata": {},
     "output_type": "execute_result"
    }
   ],
   "source": [
    "np.median(arr4d)"
   ]
  },
  {
   "cell_type": "code",
   "execution_count": 82,
   "id": "23afc7fd-eee9-49c3-b85e-16efa9e48f34",
   "metadata": {},
   "outputs": [
    {
     "data": {
      "text/plain": [
       "array([9, 7, 8])"
      ]
     },
     "execution_count": 82,
     "metadata": {},
     "output_type": "execute_result"
    }
   ],
   "source": [
    "arr5 = np.array([9,7,8])\n",
    "arr5"
   ]
  },
  {
   "cell_type": "code",
   "execution_count": 86,
   "id": "feb73b03-1fac-4681-ba6e-455a1da9cadc",
   "metadata": {},
   "outputs": [
    {
     "data": {
      "text/plain": [
       "8.0"
      ]
     },
     "execution_count": 86,
     "metadata": {},
     "output_type": "execute_result"
    }
   ],
   "source": [
    "arr5.mean()"
   ]
  },
  {
   "cell_type": "code",
   "execution_count": 88,
   "id": "1f3ec5ab-665c-4418-b616-491af2b73861",
   "metadata": {},
   "outputs": [
    {
     "data": {
      "text/plain": [
       "8.0"
      ]
     },
     "execution_count": 88,
     "metadata": {},
     "output_type": "execute_result"
    }
   ],
   "source": [
    "np.median(arr5)"
   ]
  },
  {
   "cell_type": "code",
   "execution_count": 90,
   "id": "db707190-4bd5-407d-9d36-bf312a4cd4aa",
   "metadata": {},
   "outputs": [
    {
     "data": {
      "text/plain": [
       "1"
      ]
     },
     "execution_count": 90,
     "metadata": {},
     "output_type": "execute_result"
    }
   ],
   "source": [
    "arr5.argmin()"
   ]
  },
  {
   "cell_type": "code",
   "execution_count": 92,
   "id": "d1689ca9-cfcb-443e-ad55-37b8eb83027b",
   "metadata": {},
   "outputs": [
    {
     "data": {
      "text/plain": [
       "0"
      ]
     },
     "execution_count": 92,
     "metadata": {},
     "output_type": "execute_result"
    }
   ],
   "source": [
    "arr5.argmax()"
   ]
  },
  {
   "cell_type": "code",
   "execution_count": 100,
   "id": "8dfba338-0b15-440c-9a44-d7befa29c6e9",
   "metadata": {},
   "outputs": [],
   "source": [
    "arr5.sort()     #ascending order"
   ]
  },
  {
   "cell_type": "code",
   "execution_count": 102,
   "id": "1fd4b952-dac1-44e9-b7d6-ab03f99fe98c",
   "metadata": {},
   "outputs": [
    {
     "data": {
      "text/plain": [
       "array([7, 8, 9])"
      ]
     },
     "execution_count": 102,
     "metadata": {},
     "output_type": "execute_result"
    }
   ],
   "source": [
    "arr5"
   ]
  },
  {
   "cell_type": "code",
   "execution_count": 106,
   "id": "2671ccb4-58d1-4377-8d0f-f52f0795059a",
   "metadata": {},
   "outputs": [
    {
     "data": {
      "text/plain": [
       "array([9, 8, 7])"
      ]
     },
     "execution_count": 106,
     "metadata": {},
     "output_type": "execute_result"
    }
   ],
   "source": [
    "arr5[::-1]      #descending order"
   ]
  },
  {
   "cell_type": "code",
   "execution_count": 108,
   "id": "356b7ffa-f5d4-4d6d-abe1-49cf367abffe",
   "metadata": {},
   "outputs": [
    {
     "data": {
      "text/plain": [
       "array([0, 1, 2], dtype=int64)"
      ]
     },
     "execution_count": 108,
     "metadata": {},
     "output_type": "execute_result"
    }
   ],
   "source": [
    "arr5.argsort()"
   ]
  },
  {
   "cell_type": "code",
   "execution_count": null,
   "id": "44987967-9ddd-4ddf-88ce-b61b1eebc21d",
   "metadata": {},
   "outputs": [],
   "source": []
  },
  {
   "cell_type": "code",
   "execution_count": null,
   "id": "7e2972fa-0571-44d9-b399-703b8596e03a",
   "metadata": {},
   "outputs": [],
   "source": []
  }
 ],
 "metadata": {
  "kernelspec": {
   "display_name": "Python 3 (ipykernel)",
   "language": "python",
   "name": "python3"
  },
  "language_info": {
   "codemirror_mode": {
    "name": "ipython",
    "version": 3
   },
   "file_extension": ".py",
   "mimetype": "text/x-python",
   "name": "python",
   "nbconvert_exporter": "python",
   "pygments_lexer": "ipython3",
   "version": "3.12.4"
  }
 },
 "nbformat": 4,
 "nbformat_minor": 5
}
