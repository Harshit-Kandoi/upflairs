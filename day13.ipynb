{
 "cells": [
  {
   "cell_type": "code",
   "execution_count": 1,
   "id": "f11ad6cc-6526-4e3f-a559-3f194d716934",
   "metadata": {},
   "outputs": [],
   "source": [
    "import numpy as np"
   ]
  },
  {
   "cell_type": "code",
   "execution_count": 19,
   "id": "da3d5cad-e5de-42c6-b6d6-2c7cc10c6534",
   "metadata": {},
   "outputs": [
    {
     "data": {
      "text/plain": [
       "list"
      ]
     },
     "execution_count": 19,
     "metadata": {},
     "output_type": "execute_result"
    }
   ],
   "source": [
    "lst=[[1,2,3],[4,5,6],[7,8,9]]\n",
    "type(lst)"
   ]
  },
  {
   "cell_type": "code",
   "execution_count": 21,
   "id": "40ccf05c-9400-49f3-901b-20b2d4744ee8",
   "metadata": {},
   "outputs": [
    {
     "data": {
      "text/plain": [
       "array([[1, 2, 3],\n",
       "       [4, 5, 6],\n",
       "       [7, 8, 9]])"
      ]
     },
     "execution_count": 21,
     "metadata": {},
     "output_type": "execute_result"
    }
   ],
   "source": [
    "arr = np.array(lst)\n",
    "arr"
   ]
  },
  {
   "cell_type": "code",
   "execution_count": 23,
   "id": "2c3db3db-c127-4d60-bde4-7bcf000d8ad4",
   "metadata": {},
   "outputs": [
    {
     "data": {
      "text/plain": [
       "2"
      ]
     },
     "execution_count": 23,
     "metadata": {},
     "output_type": "execute_result"
    }
   ],
   "source": [
    "arr.ndim"
   ]
  },
  {
   "cell_type": "code",
   "execution_count": 25,
   "id": "a06ab68c-c50e-4315-9545-b4e3f35c635c",
   "metadata": {},
   "outputs": [
    {
     "data": {
      "text/plain": [
       "array([1, 2, 3])"
      ]
     },
     "execution_count": 25,
     "metadata": {},
     "output_type": "execute_result"
    }
   ],
   "source": [
    "arr[0]"
   ]
  },
  {
   "cell_type": "code",
   "execution_count": 37,
   "id": "1d5d6219-7d39-4730-badc-d3f06b04c4f9",
   "metadata": {},
   "outputs": [
    {
     "data": {
      "text/plain": [
       "array([[1, 2, 3],\n",
       "       [4, 5, 6]])"
      ]
     },
     "execution_count": 37,
     "metadata": {},
     "output_type": "execute_result"
    }
   ],
   "source": [
    "arr[0:2]"
   ]
  },
  {
   "cell_type": "markdown",
   "id": "6fa6089a-29bd-4d57-adeb-efccb59b359d",
   "metadata": {},
   "source": [
    "arr[start:stop:jump--row, start:stop:jump--column]"
   ]
  },
  {
   "cell_type": "code",
   "execution_count": 41,
   "id": "cf40241f-dffb-42e2-85a8-5ef1a62646e5",
   "metadata": {},
   "outputs": [
    {
     "data": {
      "text/plain": [
       "array([[5, 6],\n",
       "       [8, 9]])"
      ]
     },
     "execution_count": 41,
     "metadata": {},
     "output_type": "execute_result"
    }
   ],
   "source": [
    "arr[1:3,1:3]"
   ]
  },
  {
   "cell_type": "code",
   "execution_count": 43,
   "id": "01ac0df0-34f0-4a98-be02-ea3073c4c64b",
   "metadata": {},
   "outputs": [
    {
     "data": {
      "text/plain": [
       "array([[181,  39, 148, 159,  26, 182],\n",
       "       [166,  14, 108, 119,  25, 113],\n",
       "       [143,  73, 171, 117,  31,   8],\n",
       "       [ 32, 131,  75, 100,   7,  78],\n",
       "       [ 47, 155, 103,  53,  61, 118],\n",
       "       [ 14,  11, 145,  39, 134, 198],\n",
       "       [120,  67, 161, 115, 189,  32],\n",
       "       [101, 142, 120,  10, 156, 178],\n",
       "       [ 57,  61,   8, 170, 192,  40],\n",
       "       [107,  17,  28,  12, 106,  36]])"
      ]
     },
     "execution_count": 43,
     "metadata": {},
     "output_type": "execute_result"
    }
   ],
   "source": [
    "arr2 = np.random.randint(1,200,(10,6))\n",
    "arr2"
   ]
  },
  {
   "cell_type": "code",
   "execution_count": 45,
   "id": "12c9cf0c-c821-45ce-869e-656983c09882",
   "metadata": {},
   "outputs": [
    {
     "data": {
      "text/plain": [
       "array([[ 47, 155, 103,  53,  61, 118],\n",
       "       [ 14,  11, 145,  39, 134, 198],\n",
       "       [120,  67, 161, 115, 189,  32],\n",
       "       [101, 142, 120,  10, 156, 178],\n",
       "       [ 57,  61,   8, 170, 192,  40]])"
      ]
     },
     "execution_count": 45,
     "metadata": {},
     "output_type": "execute_result"
    }
   ],
   "source": [
    "arr2[4:9]"
   ]
  },
  {
   "cell_type": "code",
   "execution_count": 49,
   "id": "36b8aa49-16b1-497a-9362-1390a3616fa5",
   "metadata": {},
   "outputs": [
    {
     "data": {
      "text/plain": [
       "array([[ 53,  61, 118],\n",
       "       [ 39, 134, 198],\n",
       "       [115, 189,  32],\n",
       "       [ 10, 156, 178],\n",
       "       [170, 192,  40]])"
      ]
     },
     "execution_count": 49,
     "metadata": {},
     "output_type": "execute_result"
    }
   ],
   "source": [
    "arr2[4:9,3:6]"
   ]
  },
  {
   "cell_type": "code",
   "execution_count": 63,
   "id": "610f6d27-a52b-4830-b3cd-a451d3a0091b",
   "metadata": {},
   "outputs": [
    {
     "data": {
      "text/plain": [
       "array([[ 53,  61, 118],\n",
       "       [ 39, 134, 198],\n",
       "       [115, 189,  32],\n",
       "       [ 10, 156, 178],\n",
       "       [170, 192,  40]])"
      ]
     },
     "execution_count": 63,
     "metadata": {},
     "output_type": "execute_result"
    }
   ],
   "source": [
    "arr2[-6:-1,-3:]"
   ]
  },
  {
   "cell_type": "code",
   "execution_count": 67,
   "id": "dd1eeb31-9404-44d7-8b65-67b4b0a742d1",
   "metadata": {},
   "outputs": [
    {
     "data": {
      "text/plain": [
       "array([[107,  17,  28,  12, 106,  36],\n",
       "       [ 57,  61,   8, 170, 192,  40],\n",
       "       [101, 142, 120,  10, 156, 178],\n",
       "       [120,  67, 161, 115, 189,  32],\n",
       "       [ 14,  11, 145,  39, 134, 198],\n",
       "       [ 47, 155, 103,  53,  61, 118],\n",
       "       [ 32, 131,  75, 100,   7,  78],\n",
       "       [143,  73, 171, 117,  31,   8],\n",
       "       [166,  14, 108, 119,  25, 113],\n",
       "       [181,  39, 148, 159,  26, 182]])"
      ]
     },
     "execution_count": 67,
     "metadata": {},
     "output_type": "execute_result"
    }
   ],
   "source": [
    "arr2[::-1]"
   ]
  },
  {
   "cell_type": "code",
   "execution_count": 69,
   "id": "d3ff80e4-e83c-4be8-9f64-c43c6e75deef",
   "metadata": {},
   "outputs": [
    {
     "data": {
      "text/plain": [
       "array([[ 36, 106,  12,  28,  17, 107],\n",
       "       [ 40, 192, 170,   8,  61,  57],\n",
       "       [178, 156,  10, 120, 142, 101],\n",
       "       [ 32, 189, 115, 161,  67, 120],\n",
       "       [198, 134,  39, 145,  11,  14],\n",
       "       [118,  61,  53, 103, 155,  47],\n",
       "       [ 78,   7, 100,  75, 131,  32],\n",
       "       [  8,  31, 117, 171,  73, 143],\n",
       "       [113,  25, 119, 108,  14, 166],\n",
       "       [182,  26, 159, 148,  39, 181]])"
      ]
     },
     "execution_count": 69,
     "metadata": {},
     "output_type": "execute_result"
    }
   ],
   "source": [
    "arr2[::-1,::-1]"
   ]
  },
  {
   "cell_type": "code",
   "execution_count": 75,
   "id": "a399c4d8-60c9-4d43-af99-34f51639198e",
   "metadata": {},
   "outputs": [
    {
     "data": {
      "text/plain": [
       "array([[ 14,  11],\n",
       "       [120,  67]])"
      ]
     },
     "execution_count": 75,
     "metadata": {},
     "output_type": "execute_result"
    }
   ],
   "source": [
    "arr2[5:7,0:2]"
   ]
  },
  {
   "cell_type": "code",
   "execution_count": 77,
   "id": "26e7b834-e011-48e3-919b-29254560841f",
   "metadata": {},
   "outputs": [
    {
     "data": {
      "text/plain": [
       "array([[181,  39, 148, 159,  26, 182],\n",
       "       [166,  14, 108, 119,  25, 113],\n",
       "       [143,  73, 171, 117,  31,   8],\n",
       "       [ 32, 131,  75, 100,   7,  78],\n",
       "       [ 47, 155, 103,  53,  61, 118],\n",
       "       [ 14,  11, 145,  39, 134, 198],\n",
       "       [120,  67, 161, 115, 189,  32],\n",
       "       [101, 142, 120,  10, 156, 178],\n",
       "       [ 57,  61,   8, 170, 192,  40],\n",
       "       [107,  17,  28,  12, 106,  36]])"
      ]
     },
     "execution_count": 77,
     "metadata": {},
     "output_type": "execute_result"
    }
   ],
   "source": [
    "arr2"
   ]
  },
  {
   "cell_type": "code",
   "execution_count": 85,
   "id": "c14c1564-e89e-48ee-a90b-c254090f41f1",
   "metadata": {},
   "outputs": [
    {
     "data": {
      "text/plain": [
       "array([[36]])"
      ]
     },
     "execution_count": 85,
     "metadata": {},
     "output_type": "execute_result"
    }
   ],
   "source": [
    "arr2[9:10,5:6]"
   ]
  },
  {
   "cell_type": "code",
   "execution_count": 87,
   "id": "70b57d65-7202-4d57-b4d3-4b1f8dc8d5e7",
   "metadata": {},
   "outputs": [],
   "source": [
    "arr2[-1,-1] = 100"
   ]
  },
  {
   "cell_type": "code",
   "execution_count": 89,
   "id": "930eeba9-5e63-4554-ab9e-d753a1d31bf3",
   "metadata": {},
   "outputs": [
    {
     "data": {
      "text/plain": [
       "100"
      ]
     },
     "execution_count": 89,
     "metadata": {},
     "output_type": "execute_result"
    }
   ],
   "source": [
    "arr2[-1,-1]"
   ]
  },
  {
   "cell_type": "code",
   "execution_count": 95,
   "id": "33175461-7404-496b-bfe5-52a5cdfdd311",
   "metadata": {},
   "outputs": [
    {
     "data": {
      "text/plain": [
       "159"
      ]
     },
     "execution_count": 95,
     "metadata": {},
     "output_type": "execute_result"
    }
   ],
   "source": [
    "arr2[0,3]"
   ]
  },
  {
   "cell_type": "code",
   "execution_count": 97,
   "id": "cae5ccb3-bf78-483c-b60e-2650f5cc75ec",
   "metadata": {},
   "outputs": [],
   "source": [
    "arr2[0,3] = 500"
   ]
  },
  {
   "cell_type": "code",
   "execution_count": 99,
   "id": "ae9b7351-1d93-48d1-b277-f87d386a5827",
   "metadata": {},
   "outputs": [
    {
     "ename": "TypeError",
     "evalue": "randint() takes at most 4 positional arguments (5 given)",
     "output_type": "error",
     "traceback": [
      "\u001b[1;31m---------------------------------------------------------------------------\u001b[0m",
      "\u001b[1;31mTypeError\u001b[0m                                 Traceback (most recent call last)",
      "Cell \u001b[1;32mIn[99], line 1\u001b[0m\n\u001b[1;32m----> 1\u001b[0m arr2 \u001b[38;5;241m=\u001b[39m \u001b[43mnp\u001b[49m\u001b[38;5;241;43m.\u001b[39;49m\u001b[43mrandom\u001b[49m\u001b[38;5;241;43m.\u001b[39;49m\u001b[43mrandint\u001b[49m\u001b[43m(\u001b[49m\u001b[38;5;241;43m1\u001b[39;49m\u001b[43m,\u001b[49m\u001b[38;5;241;43m200\u001b[39;49m\u001b[43m,\u001b[49m\u001b[43m(\u001b[49m\u001b[38;5;241;43m3\u001b[39;49m\u001b[43m,\u001b[49m\u001b[38;5;241;43m4\u001b[39;49m\u001b[43m)\u001b[49m\u001b[43m,\u001b[49m\u001b[43m(\u001b[49m\u001b[38;5;241;43m3\u001b[39;49m\u001b[43m,\u001b[49m\u001b[38;5;241;43m4\u001b[39;49m\u001b[43m)\u001b[49m\u001b[43m,\u001b[49m\u001b[43m(\u001b[49m\u001b[38;5;241;43m3\u001b[39;49m\u001b[43m,\u001b[49m\u001b[38;5;241;43m4\u001b[39;49m\u001b[43m)\u001b[49m\u001b[43m)\u001b[49m\n\u001b[0;32m      2\u001b[0m arr2\n",
      "File \u001b[1;32mnumpy\\\\random\\\\mtrand.pyx:679\u001b[0m, in \u001b[0;36mnumpy.random.mtrand.RandomState.randint\u001b[1;34m()\u001b[0m\n",
      "\u001b[1;31mTypeError\u001b[0m: randint() takes at most 4 positional arguments (5 given)"
     ]
    }
   ],
   "source": [
    "arr2 = np.random.randint(1,200,(3,4),(3,4),(3,4))\n",
    "arr2"
   ]
  },
  {
   "cell_type": "code",
   "execution_count": null,
   "id": "3d9ff835-7419-4350-99fc-db0ae8d92483",
   "metadata": {},
   "outputs": [],
   "source": []
  },
  {
   "cell_type": "code",
   "execution_count": null,
   "id": "eddddc69-451a-4479-896d-bd6951b1c5a0",
   "metadata": {},
   "outputs": [],
   "source": []
  },
  {
   "cell_type": "code",
   "execution_count": null,
   "id": "c2e932f8-bdb4-47e1-a9b7-5e62d8fd1ed0",
   "metadata": {},
   "outputs": [],
   "source": []
  },
  {
   "cell_type": "code",
   "execution_count": null,
   "id": "d84b8d4f-3f9a-4e1c-97dd-e47436f33505",
   "metadata": {},
   "outputs": [],
   "source": []
  },
  {
   "cell_type": "code",
   "execution_count": null,
   "id": "8d7a3b3b-357b-4c48-a60b-28c1808f65b0",
   "metadata": {},
   "outputs": [],
   "source": []
  },
  {
   "cell_type": "code",
   "execution_count": null,
   "id": "8ce3756b-dc98-4dba-9daf-01d2fb2f6b04",
   "metadata": {},
   "outputs": [],
   "source": []
  }
 ],
 "metadata": {
  "kernelspec": {
   "display_name": "Python 3 (ipykernel)",
   "language": "python",
   "name": "python3"
  },
  "language_info": {
   "codemirror_mode": {
    "name": "ipython",
    "version": 3
   },
   "file_extension": ".py",
   "mimetype": "text/x-python",
   "name": "python",
   "nbconvert_exporter": "python",
   "pygments_lexer": "ipython3",
   "version": "3.12.4"
  }
 },
 "nbformat": 4,
 "nbformat_minor": 5
}
