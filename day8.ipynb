{
 "cells": [
  {
   "cell_type": "code",
   "execution_count": null,
   "metadata": {},
   "outputs": [],
   "source": [
    "#.ipynb = interactive python notebook (jupyter notebook)"
   ]
  },
  {
   "cell_type": "code",
   "execution_count": 4,
   "metadata": {},
   "outputs": [
    {
     "name": "stdout",
     "output_type": "stream",
     "text": [
      "hello world\n"
     ]
    }
   ],
   "source": [
    "print(\"hello world\")\n",
    "# use ctrl/ space + enter for running the cell"
   ]
  },
  {
   "cell_type": "code",
   "execution_count": 5,
   "metadata": {},
   "outputs": [],
   "source": [
    "import os"
   ]
  },
  {
   "cell_type": "code",
   "execution_count": 9,
   "metadata": {},
   "outputs": [
    {
     "data": {
      "text/plain": [
       "'c:\\\\upflairs'"
      ]
     },
     "execution_count": 9,
     "metadata": {},
     "output_type": "execute_result"
    }
   ],
   "source": [
    "pwd\n",
    "# command can also be used in a jupyter file."
   ]
  },
  {
   "cell_type": "code",
   "execution_count": 7,
   "metadata": {},
   "outputs": [
    {
     "data": {
      "text/plain": [
       "'c:\\\\upflairs'"
      ]
     },
     "execution_count": 7,
     "metadata": {},
     "output_type": "execute_result"
    }
   ],
   "source": [
    "os.getcwd()"
   ]
  },
  {
   "cell_type": "code",
   "execution_count": 8,
   "metadata": {},
   "outputs": [
    {
     "data": {
      "text/plain": [
       "['atm_machine.py',\n",
       " 'day1.py',\n",
       " 'day2.py',\n",
       " 'day3.py',\n",
       " 'day4.py',\n",
       " 'day6.py',\n",
       " 'day7.py',\n",
       " 'day8.ipynb',\n",
       " 'hello_world.py']"
      ]
     },
     "execution_count": 8,
     "metadata": {},
     "output_type": "execute_result"
    }
   ],
   "source": [
    "os.listdir()"
   ]
  },
  {
   "cell_type": "code",
   "execution_count": 10,
   "metadata": {},
   "outputs": [
    {
     "name": "stdout",
     "output_type": "stream",
     "text": [
      " Volume in drive C is OS\n",
      " Volume Serial Number is D0DE-A703\n",
      "\n",
      " Directory of c:\\upflairs\n",
      "\n",
      "26-06-2024  12:44    <DIR>          .\n",
      "22-06-2024  22:34             2,751 atm_machine.py\n",
      "19-06-2024  13:55               214 day1.py\n",
      "20-06-2024  12:44             1,905 day2.py\n",
      "20-06-2024  14:28             1,261 day3.py\n",
      "21-06-2024  14:24             1,104 day4.py\n",
      "24-06-2024  14:33             2,402 day6.py\n",
      "25-06-2024  14:25             1,358 day7.py\n",
      "26-06-2024  13:05             2,258 day8.ipynb\n",
      "13-06-2024  16:10               182 hello_world.py\n",
      "               9 File(s)         13,435 bytes\n",
      "               1 Dir(s)  357,013,123,072 bytes free\n"
     ]
    }
   ],
   "source": [
    "ls"
   ]
  },
  {
   "cell_type": "code",
   "execution_count": 4,
   "metadata": {},
   "outputs": [
    {
     "name": "stderr",
     "output_type": "stream",
     "text": [
      "A subdirectory or file emon already exists.\n"
     ]
    }
   ],
   "source": [
    "\n",
    "mkdir emon  "
   ]
  },
  {
   "cell_type": "code",
   "execution_count": 9,
   "metadata": {},
   "outputs": [],
   "source": [
    "rmdir emon"
   ]
  },
  {
   "cell_type": "code",
   "execution_count": 16,
   "metadata": {},
   "outputs": [],
   "source": [
    "os.mkdir('demo')"
   ]
  },
  {
   "cell_type": "code",
   "execution_count": 17,
   "metadata": {},
   "outputs": [],
   "source": [
    "os.rmdir('demo')"
   ]
  },
  {
   "cell_type": "code",
   "execution_count": 24,
   "metadata": {},
   "outputs": [
    {
     "name": "stdout",
     "output_type": "stream",
     "text": [
      "My name is:  harsh\n",
      "And my age is : 45\n"
     ]
    }
   ],
   "source": [
    "# exception handling\n",
    "# they are not error but it is a unwanted or a undesired situation\n",
    "#try, except, else, finally\n",
    "name = input(\"plz enter your name: \")\n",
    "age = int(input(\"plz enter your age: \"))\n",
    "\n",
    "print(\"My name is: \",name)\n",
    "print(\"And my age is :\", age)"
   ]
  },
  {
   "cell_type": "code",
   "execution_count": 32,
   "metadata": {},
   "outputs": [
    {
     "name": "stdout",
     "output_type": "stream",
     "text": [
      "My name is:  harsh\n",
      "And my age is : 54\n",
      "error has been not occured\n",
      "hola amigo\n",
      "run the code\n"
     ]
    }
   ],
   "source": [
    "#try, except, else, finally\n",
    "\n",
    "try:\n",
    "    name = input(\"plz enter your name: \")\n",
    "    age = int(input(\"plz enter your age: \"))\n",
    "\n",
    "    print(\"My name is: \",name)\n",
    "    print(\"And my age is :\", age)\n",
    "\n",
    "except:\n",
    "    print(\"error occured\")\n",
    "else:\n",
    "    print(\"error has been not occured\")\n",
    "finally:\n",
    "    print(\"hola amigo\")\n",
    "\n",
    "print(\"run the code\")"
   ]
  },
  {
   "cell_type": "markdown",
   "metadata": {},
   "source": [
    "File Handling"
   ]
  },
  {
   "cell_type": "code",
   "execution_count": 33,
   "metadata": {},
   "outputs": [],
   "source": [
    "os.mkdir(\"Demo\")"
   ]
  },
  {
   "cell_type": "code",
   "execution_count": 44,
   "metadata": {},
   "outputs": [
    {
     "name": "stdout",
     "output_type": "stream",
     "text": [
      "harshit kandoi\n"
     ]
    }
   ],
   "source": [
    "\n",
    "f = open('hello.txt', \"r\")\n",
    "r = f.read()\n",
    "print(r)\n",
    "f.close()"
   ]
  },
  {
   "cell_type": "code",
   "execution_count": 45,
   "metadata": {},
   "outputs": [
    {
     "data": {
      "text/plain": [
       "<_io.TextIOWrapper name='hello.txt' mode='r' encoding='cp1252'>"
      ]
     },
     "execution_count": 45,
     "metadata": {},
     "output_type": "execute_result"
    }
   ],
   "source": [
    "file = open('hello.txt')\n",
    "file"
   ]
  },
  {
   "cell_type": "code",
   "execution_count": null,
   "metadata": {},
   "outputs": [],
   "source": []
  }
 ],
 "metadata": {
  "kernelspec": {
   "display_name": "Python 3",
   "language": "python",
   "name": "python3"
  },
  "language_info": {
   "codemirror_mode": {
    "name": "ipython",
    "version": 3
   },
   "file_extension": ".py",
   "mimetype": "text/x-python",
   "name": "python",
   "nbconvert_exporter": "python",
   "pygments_lexer": "ipython3",
   "version": "3.12.4"
  }
 },
 "nbformat": 4,
 "nbformat_minor": 2
}
