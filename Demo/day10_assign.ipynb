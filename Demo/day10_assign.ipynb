{
 "cells": [
  {
   "cell_type": "code",
   "execution_count": 5,
   "metadata": {},
   "outputs": [],
   "source": [
    "class animal():\n",
    "    def __init__(self):\n",
    "        self.animal_names = ['cow','cat','dog','monkey']\n",
    "        self.animal_class = 4\n",
    "        self.animal_branch = ['replitles','vertibrate','amphibians']\n",
    "        self.animal_kingdom = ['animalia']\n",
    "        print(\"constructor executed\")"
   ]
  },
  {
   "cell_type": "code",
   "execution_count": 6,
   "metadata": {},
   "outputs": [
    {
     "name": "stdout",
     "output_type": "stream",
     "text": [
      "constructor executed\n"
     ]
    }
   ],
   "source": [
    "any = animal()"
   ]
  },
  {
   "cell_type": "code",
   "execution_count": 7,
   "metadata": {},
   "outputs": [
    {
     "data": {
      "text/plain": [
       "['cow', 'cat', 'dog', 'monkey']"
      ]
     },
     "execution_count": 7,
     "metadata": {},
     "output_type": "execute_result"
    }
   ],
   "source": [
    "any.animal_names"
   ]
  },
  {
   "cell_type": "code",
   "execution_count": 1,
   "metadata": {},
   "outputs": [
    {
     "name": "stdout",
     "output_type": "stream",
     "text": [
      "constructor is executed\n",
      "realme display= amrolled\n",
      "realme \n",
      "  4 - 64 \n",
      " 13 pro \n",
      " 19500 \n",
      "\n"
     ]
    }
   ],
   "source": [
    "class mobile:\n",
    "  def __init__(self,name,ram,model,price,display):\n",
    "    self.name=name\n",
    "    self.ram=ram\n",
    "    self.model=model\n",
    "    self.price=price\n",
    "    self.display=display\n",
    "    print(\"constructor is executed\")\n",
    "  def displayr(self):\n",
    "      print(self.name,\"display=\",self.display)\n",
    "\n",
    "realme=mobile(name=\"realme\",ram=\" 4 - 64\",model=\"13 pro\",price=\"19500\",display=\"amrolled\")\n",
    "realme.displayr()\n",
    "print(realme.name,\"\\n\",realme.ram,\"\\n\",realme.model,\"\\n\",realme.price,\"\\n\")"
   ]
  }
 ],
 "metadata": {
  "kernelspec": {
   "display_name": "Python 3",
   "language": "python",
   "name": "python3"
  },
  "language_info": {
   "codemirror_mode": {
    "name": "ipython",
    "version": 3
   },
   "file_extension": ".py",
   "mimetype": "text/x-python",
   "name": "python",
   "nbconvert_exporter": "python",
   "pygments_lexer": "ipython3",
   "version": "3.12.4"
  }
 },
 "nbformat": 4,
 "nbformat_minor": 2
}
