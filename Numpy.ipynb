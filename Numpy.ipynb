{
 "cells": [
  {
   "cell_type": "markdown",
   "id": "c7922ed5",
   "metadata": {},
   "source": [
    "# Installation of Numpy library for python"
   ]
  },
  {
   "cell_type": "code",
   "execution_count": 2,
   "id": "511238a4-e055-4a4c-b944-485039fa5891",
   "metadata": {},
   "outputs": [
    {
     "name": "stdout",
     "output_type": "stream",
     "text": [
      "Note: you may need to restart the kernel to use updated packages.\n"
     ]
    },
    {
     "name": "stderr",
     "output_type": "stream",
     "text": [
      "ERROR: Invalid requirement: '#pip'\n"
     ]
    }
   ],
   "source": [
    "pip install numpy    #pip command used to install"
   ]
  },
  {
   "cell_type": "markdown",
   "id": "696cd955",
   "metadata": {},
   "source": [
    "Importing the Numpy library in python"
   ]
  },
  {
   "cell_type": "code",
   "execution_count": 3,
   "id": "3bc4e483-d522-4d91-9694-c48b6af95193",
   "metadata": {},
   "outputs": [
    {
     "name": "stdout",
     "output_type": "stream",
     "text": [
      "numpy imported\n"
     ]
    }
   ],
   "source": [
    "import numpy as np          #'import' used to load the library\n",
    "print(\"numpy imported\")"
   ]
  },
  {
   "cell_type": "markdown",
   "id": "8184c223",
   "metadata": {},
   "source": [
    "# Lets check some working of Numpy on array"
   ]
  },
  {
   "cell_type": "markdown",
   "id": "2942b077",
   "metadata": {},
   "source": [
    "Array creation "
   ]
  },
  {
   "cell_type": "code",
   "execution_count": 4,
   "id": "a9c7529f-48d4-4219-bc52-8315761b4ae2",
   "metadata": {},
   "outputs": [
    {
     "data": {
      "text/plain": [
       "array([ 25,  14,  36,  96,  85,  74,  41,  52, 636, 545,  55])"
      ]
     },
     "execution_count": 4,
     "metadata": {},
     "output_type": "execute_result"
    }
   ],
   "source": [
    "ls = [25,14,36,96,85,74,41,52,636,545,55]\n",
    "arr = np.array(ls)           # Using numpy to convert list into array\n",
    "arr "
   ]
  },
  {
   "cell_type": "markdown",
   "id": "da3e6036",
   "metadata": {},
   "source": [
    "Type of array"
   ]
  },
  {
   "cell_type": "code",
   "execution_count": 5,
   "id": "fd731ce3-b748-4168-9c61-fce03b9666f5",
   "metadata": {},
   "outputs": [
    {
     "data": {
      "text/plain": [
       "numpy.ndarray"
      ]
     },
     "execution_count": 5,
     "metadata": {},
     "output_type": "execute_result"
    }
   ],
   "source": [
    "type(arr)\n",
    "#nd n dimensional array "
   ]
  },
  {
   "cell_type": "markdown",
   "id": "2a4dfc25",
   "metadata": {},
   "source": [
    "Creating a list"
   ]
  },
  {
   "cell_type": "code",
   "execution_count": 6,
   "id": "39c51d0c-1507-4e79-b67c-bc16e9f7a23a",
   "metadata": {},
   "outputs": [
    {
     "data": {
      "text/plain": [
       "[25, 'upflairs', True, 52.36]"
      ]
     },
     "execution_count": 6,
     "metadata": {},
     "output_type": "execute_result"
    }
   ],
   "source": [
    "ls2 = [25,'upflairs',True,52.36]\n",
    "ls2 "
   ]
  },
  {
   "cell_type": "markdown",
   "id": "08b0d026",
   "metadata": {},
   "source": [
    "Conversion of list into a array"
   ]
  },
  {
   "cell_type": "code",
   "execution_count": 7,
   "id": "b46f0394-5723-40c0-82db-711bfa95c889",
   "metadata": {},
   "outputs": [
    {
     "data": {
      "text/plain": [
       "array([ 25.  ,  14.  ,  36.  ,  96.  ,  85.  ,  74.  ,  41.  ,  52.  ,\n",
       "       636.  , 545.  ,  55.  , 100.25])"
      ]
     },
     "execution_count": 7,
     "metadata": {},
     "output_type": "execute_result"
    }
   ],
   "source": [
    "## Array creation \n",
    "ls = [25,14,36,96,85,74,41,52,636,545,55,100.25]      # A single data type change in a list \n",
    "arr = np.array(ls)      #can covert a arr of different integer\n",
    "arr "
   ]
  },
  {
   "cell_type": "code",
   "execution_count": 8,
   "id": "6a8eb73b-6d16-4d51-9fd4-8b81f0be745e",
   "metadata": {},
   "outputs": [
    {
     "data": {
      "text/plain": [
       "array(['25', '14', '36', '96', '85', '74', '41', '52', '636', '545', '55',\n",
       "       'upflairs'], dtype='<U11')"
      ]
     },
     "execution_count": 8,
     "metadata": {},
     "output_type": "execute_result"
    }
   ],
   "source": [
    "## Array creation \n",
    "ls = [25,14,36,96,85,74,41,52,636,545,55,'upflairs']        #giving a string in a list\n",
    "arr = np.array(ls)      # Whole array is converted into string data type\n",
    "arr "
   ]
  },
  {
   "cell_type": "code",
   "execution_count": 9,
   "id": "3ca93382-e3f9-4fed-a2fe-1db5470f6b42",
   "metadata": {},
   "outputs": [
    {
     "data": {
      "text/plain": [
       "array([251,  55, 545, 636,  52,  41,  74,  85,  96,  36,  14,  25])"
      ]
     },
     "execution_count": 9,
     "metadata": {},
     "output_type": "execute_result"
    }
   ],
   "source": [
    "## Array creation \n",
    "ls = [25,14,36,96,85,74,41,52,636,545,55,251]  ## reverse print \n",
    "arr = np.array(ls)\n",
    "arr[::-1]     "
   ]
  },
  {
   "cell_type": "markdown",
   "id": "4acff94d",
   "metadata": {},
   "source": [
    "Ways to count number of stored item/element in a array"
   ]
  },
  {
   "cell_type": "code",
   "execution_count": 10,
   "id": "56d554df-f126-4daa-9429-767825e6beef",
   "metadata": {},
   "outputs": [
    {
     "data": {
      "text/plain": [
       "12"
      ]
     },
     "execution_count": 10,
     "metadata": {},
     "output_type": "execute_result"
    }
   ],
   "source": [
    "len(arr)     # Number of elements in a array"
   ]
  },
  {
   "cell_type": "code",
   "execution_count": 11,
   "id": "d7a9f16b-f623-4b61-8ba9-a31cebd49aab",
   "metadata": {},
   "outputs": [
    {
     "data": {
      "text/plain": [
       "12"
      ]
     },
     "execution_count": 11,
     "metadata": {},
     "output_type": "execute_result"
    }
   ],
   "source": [
    "arr.size   # or len(arr)"
   ]
  },
  {
   "cell_type": "markdown",
   "id": "467be717",
   "metadata": {},
   "source": [
    "Data type of the given array"
   ]
  },
  {
   "cell_type": "code",
   "execution_count": 12,
   "id": "9c0294bb-e68c-4a10-8d36-4df822507ccc",
   "metadata": {},
   "outputs": [
    {
     "data": {
      "text/plain": [
       "dtype('int32')"
      ]
     },
     "execution_count": 12,
     "metadata": {},
     "output_type": "execute_result"
    }
   ],
   "source": [
    "arr.dtype"
   ]
  },
  {
   "cell_type": "markdown",
   "id": "909d8abd",
   "metadata": {},
   "source": [
    "Array slicing"
   ]
  },
  {
   "cell_type": "code",
   "execution_count": 13,
   "id": "df2e9053-05f5-429e-b93a-23e402491dd9",
   "metadata": {},
   "outputs": [
    {
     "data": {
      "text/plain": [
       "array([ 14,  36,  96,  85,  74,  41,  52, 636, 545,  55, 251])"
      ]
     },
     "execution_count": 13,
     "metadata": {},
     "output_type": "execute_result"
    }
   ],
   "source": [
    "arr[1:] \n",
    "# positive and negative "
   ]
  },
  {
   "cell_type": "markdown",
   "id": "ffcba077",
   "metadata": {},
   "source": [
    "# arange function"
   ]
  },
  {
   "cell_type": "markdown",
   "id": "8637588f",
   "metadata": {},
   "source": [
    "'numpy.arange' is a function in Python's NumPy library that returns an array of evenly spaced values within a specified range."
   ]
  },
  {
   "cell_type": "code",
   "execution_count": 14,
   "id": "17cb5255-b1a6-4ec7-a406-6f8a8cac37e8",
   "metadata": {},
   "outputs": [
    {
     "data": {
      "text/plain": [
       "array([ 1,  2,  3,  4,  5,  6,  7,  8,  9, 10, 11, 12, 13, 14, 15, 16, 17,\n",
       "       18, 19, 20, 21, 22, 23, 24, 25, 26, 27, 28, 29, 30, 31, 32, 33, 34,\n",
       "       35, 36, 37, 38, 39, 40, 41, 42, 43, 44, 45, 46, 47, 48, 49, 50, 51,\n",
       "       52, 53, 54, 55, 56, 57, 58, 59])"
      ]
     },
     "execution_count": 14,
     "metadata": {},
     "output_type": "execute_result"
    }
   ],
   "source": [
    "np.arange(1,60)    #Provide a array acc. to specified range"
   ]
  },
  {
   "cell_type": "code",
   "execution_count": 15,
   "id": "a0e96a55-c750-4919-baac-584cdb732b90",
   "metadata": {},
   "outputs": [
    {
     "data": {
      "text/plain": [
       "array([ 0,  1,  2,  3,  4,  5,  6,  7,  8,  9, 10, 11, 12, 13, 14, 15, 16,\n",
       "       17, 18, 19, 20, 21, 22, 23, 24, 25, 26, 27, 28, 29, 30, 31, 32, 33,\n",
       "       34, 35, 36, 37, 38, 39, 40, 41, 42, 43, 44, 45, 46, 47, 48, 49, 50,\n",
       "       51, 52, 53, 54, 55, 56, 57, 58, 59])"
      ]
     },
     "execution_count": 15,
     "metadata": {},
     "output_type": "execute_result"
    }
   ],
   "source": [
    "arr2= np.arange(60) \n",
    "arr2 "
   ]
  },
  {
   "cell_type": "code",
   "execution_count": 16,
   "id": "2e857d52-daf1-45fa-b05e-70702cb930c9",
   "metadata": {},
   "outputs": [
    {
     "data": {
      "text/plain": [
       "array([  0,   2,   4,   6,   8,  10,  12,  14,  16,  18,  20,  22,  24,\n",
       "        26,  28,  30,  32,  34,  36,  38,  40,  42,  44,  46,  48,  50,\n",
       "        52,  54,  56,  58,  60,  62,  64,  66,  68,  70,  72,  74,  76,\n",
       "        78,  80,  82,  84,  86,  88,  90,  92,  94,  96,  98, 100])"
      ]
     },
     "execution_count": 16,
     "metadata": {},
     "output_type": "execute_result"
    }
   ],
   "source": [
    "arr2= np.arange(0,101,2)    # range(starting, stoping , jump )\n",
    "arr2         #adding range in array can change results in specified range"
   ]
  },
  {
   "cell_type": "code",
   "execution_count": 17,
   "id": "d5ae35ab-751c-40b1-89a8-a0f3c84c8642",
   "metadata": {},
   "outputs": [
    {
     "data": {
      "text/plain": [
       "51"
      ]
     },
     "execution_count": 17,
     "metadata": {},
     "output_type": "execute_result"
    }
   ],
   "source": [
    "len(arr2)"
   ]
  },
  {
   "cell_type": "markdown",
   "id": "c4426488",
   "metadata": {},
   "source": [
    "function creates a new array filled with the given condition"
   ]
  },
  {
   "cell_type": "code",
   "execution_count": 18,
   "id": "a11f3d23-344b-4a84-a3b7-976e25baa4be",
   "metadata": {},
   "outputs": [
    {
     "data": {
      "text/plain": [
       "array([1., 1., 1., 1., 1., 1., 1., 1., 1., 1.])"
      ]
     },
     "execution_count": 18,
     "metadata": {},
     "output_type": "execute_result"
    }
   ],
   "source": [
    "np.ones(10)   #function in NumPy creates an array of shape (10,) filled with ones."
   ]
  },
  {
   "cell_type": "code",
   "execution_count": 19,
   "id": "5540fb01-3462-461d-9527-e2774e40a6c3",
   "metadata": {},
   "outputs": [
    {
     "data": {
      "text/plain": [
       "array([0., 0., 0., 0., 0., 0., 0., 0., 0., 0.])"
      ]
     },
     "execution_count": 19,
     "metadata": {},
     "output_type": "execute_result"
    }
   ],
   "source": [
    "np.zeros(10)    #function in NumPy creates an array of shape (10,) filled with zeros."
   ]
  },
  {
   "cell_type": "code",
   "execution_count": 20,
   "id": "f2147b00-3193-4897-a8a2-4ddbd1a4e2bd",
   "metadata": {},
   "outputs": [
    {
     "data": {
      "text/plain": [
       "array([ 1.        ,  3.57894737,  6.15789474,  8.73684211, 11.31578947,\n",
       "       13.89473684, 16.47368421, 19.05263158, 21.63157895, 24.21052632,\n",
       "       26.78947368, 29.36842105, 31.94736842, 34.52631579, 37.10526316,\n",
       "       39.68421053, 42.26315789, 44.84210526, 47.42105263, 50.        ])"
      ]
     },
     "execution_count": 20,
     "metadata": {},
     "output_type": "execute_result"
    }
   ],
   "source": [
    "np.linspace(1,50,20)   # in between 1 to  50 , item 20"
   ]
  },
  {
   "cell_type": "markdown",
   "id": "ebbcf05a",
   "metadata": {},
   "source": [
    "Create a array using random function"
   ]
  },
  {
   "cell_type": "code",
   "execution_count": 21,
   "id": "e80bab85-f547-4931-a224-05c47da113fd",
   "metadata": {},
   "outputs": [
    {
     "data": {
      "text/plain": [
       "array([ 86, 133,  77, 145,  88,  39, 104,  62, 294, 285, 248,  65,  84,\n",
       "       197, 101, 233,  63,  39, 208, 293,  35, 241,  80, 266,  29, 211,\n",
       "       189,  69,  67, 253,  69, 215, 294,  47, 157, 298, 122,   6,  32,\n",
       "        52,  73, 278, 281, 138, 202, 288, 129, 222, 123, 128, 160, 129,\n",
       "        10, 188, 224, 281, 176, 296, 243, 281, 175, 165, 278, 266, 198,\n",
       "        42, 115, 215,  19, 218,  95, 133, 181, 221,  47, 286,  57, 135,\n",
       "       286,  35, 108, 284, 214, 144, 284, 200, 171,  67, 291, 170, 145,\n",
       "        30, 200, 167,   1, 111,  77, 224, 147,  34, 139, 289, 220,  51,\n",
       "        12, 105,  82, 281, 199,  52, 292, 225, 295, 209,  47, 184, 248,\n",
       "        78,  95,  22,  86, 231, 221, 261, 148, 180, 277, 116, 199,  98,\n",
       "       198,  65, 152, 223,  58,  29, 164, 231, 107, 149, 267, 121, 209,\n",
       "       225, 160, 127,  36, 136, 228, 193, 203, 205, 152,  84, 264, 174,\n",
       "       150,  26, 167, 106,  31, 232, 230, 116,  63, 188,  92,  64, 228,\n",
       "        75,  56, 272, 296,  51, 148, 131, 262, 106, 274, 242, 213, 249,\n",
       "        77, 104,   4, 291, 210, 225, 245,  97, 280, 212, 214, 177, 156,\n",
       "       132, 265, 283,  17, 154,  38,  88, 191,  56, 267, 298,  34, 291,\n",
       "       135, 222,   2,  81,  54,  83,  57, 270, 123,  55, 133, 162, 250,\n",
       "       137,  96,  91,  47, 214, 150, 245, 129, 224,  42, 238,  81,  20,\n",
       "        17, 284,  30, 247,  74, 167, 192,   9, 170, 182, 154, 254,  71,\n",
       "       230, 259,   4,  95, 197, 297, 155, 205,  43, 288, 143, 247, 164,\n",
       "       128,  38, 297, 200, 172, 171, 260, 217,   8,  29, 250, 289, 239,\n",
       "       132, 227,  67,  92, 162,  81,   5,  10, 154, 104,  59, 121, 136,\n",
       "       209, 185, 208, 186,  22, 275, 182, 176, 218, 295, 239, 148,  30,\n",
       "       174, 247, 127, 198, 129, 225,  17, 205,  80, 288, 254,  32, 116,\n",
       "       140, 154,  88, 239,  13,   9,  18, 279, 180, 295, 164, 113,  35,\n",
       "       206,   1, 269, 299,  93, 266,  86, 143, 280,  26,  63, 271,  59,\n",
       "        64,  48, 120, 256, 239, 273, 281, 217,  24, 204, 275, 184, 246,\n",
       "       178, 154, 206, 229,  22,  11,  87, 220,  53, 240, 112, 105, 267,\n",
       "       126, 282, 252, 120,  98, 221, 282, 269, 187,  18, 271, 155, 256,\n",
       "       169, 171,  81, 188,  94, 268, 140, 120,  39, 177, 262,  17, 248,\n",
       "       234,  77, 227,  96,  90,  84, 199, 208,  55,  60, 102, 200, 278,\n",
       "       136,  53, 271, 203,  53, 247,  30,  33, 259, 113,  22, 145, 273,\n",
       "        21, 143, 182,  89, 133, 251,  94, 122, 229, 125, 138, 278,  22,\n",
       "       216, 270, 191, 134, 281, 298, 167, 273,  54, 207, 187,  83, 159,\n",
       "       159, 182, 280, 190,  34, 144, 128,   5, 191,  55, 158,  24, 156,\n",
       "        63, 266,  74, 127,  83, 267, 183, 251,  91, 253, 248, 196, 162,\n",
       "       108,  99, 264, 157, 131, 179, 196,  97, 191, 156,  92, 130, 293,\n",
       "       107, 120, 138,  94,  29, 100, 209, 288,   1,  66, 105, 147, 150,\n",
       "         9, 258, 179,  16, 228,  88])"
      ]
     },
     "execution_count": 21,
     "metadata": {},
     "output_type": "execute_result"
    }
   ],
   "source": [
    "arr = np.random.randint(1,300,500)    # in between 1 - 300 items ==> 500 \n",
    "arr "
   ]
  },
  {
   "cell_type": "code",
   "execution_count": 22,
   "id": "0838009e-a71c-498b-950b-2415ccc7707c",
   "metadata": {},
   "outputs": [
    {
     "data": {
      "text/plain": [
       "500"
      ]
     },
     "execution_count": 22,
     "metadata": {},
     "output_type": "execute_result"
    }
   ],
   "source": [
    "arr.size "
   ]
  },
  {
   "cell_type": "markdown",
   "id": "7610e950",
   "metadata": {},
   "source": [
    "Quiz time : filter all items that are less than or equal too 70 and how many items are present in your array."
   ]
  },
  {
   "cell_type": "code",
   "execution_count": 23,
   "id": "829ecacf-9699-42ca-b833-efb5ed0ca74a",
   "metadata": {},
   "outputs": [
    {
     "name": "stdout",
     "output_type": "stream",
     "text": [
      "39\n",
      "62\n",
      "65\n",
      "63\n",
      "39\n",
      "35\n",
      "29\n",
      "69\n",
      "67\n",
      "69\n",
      "47\n",
      "6\n",
      "32\n",
      "52\n",
      "10\n",
      "42\n",
      "19\n",
      "47\n",
      "57\n",
      "35\n",
      "67\n",
      "30\n",
      "1\n",
      "34\n",
      "51\n",
      "12\n",
      "52\n",
      "47\n",
      "22\n",
      "65\n",
      "58\n",
      "29\n",
      "36\n",
      "26\n",
      "31\n",
      "63\n",
      "64\n",
      "56\n",
      "51\n",
      "4\n",
      "17\n",
      "38\n",
      "56\n",
      "34\n",
      "2\n",
      "54\n",
      "57\n",
      "55\n",
      "47\n",
      "42\n",
      "20\n",
      "17\n",
      "30\n",
      "9\n",
      "4\n",
      "43\n",
      "38\n",
      "8\n",
      "29\n",
      "67\n",
      "5\n",
      "10\n",
      "59\n",
      "22\n",
      "30\n",
      "17\n",
      "32\n",
      "13\n",
      "9\n",
      "18\n",
      "35\n",
      "1\n",
      "26\n",
      "63\n",
      "59\n",
      "64\n",
      "48\n",
      "24\n",
      "22\n",
      "11\n",
      "53\n",
      "18\n",
      "39\n",
      "17\n",
      "55\n",
      "60\n",
      "53\n",
      "53\n",
      "30\n",
      "33\n",
      "22\n",
      "21\n",
      "22\n",
      "54\n",
      "34\n",
      "5\n",
      "55\n",
      "24\n",
      "63\n",
      "29\n",
      "1\n",
      "66\n",
      "9\n",
      "16\n",
      "No of Item :  104\n"
     ]
    }
   ],
   "source": [
    "# Program using for loop and if-else condition\n",
    "\n",
    "count = 0 \n",
    "for item in arr:\n",
    "    if item <=70:\n",
    "        print(item)\n",
    "        count = count + 1 \n",
    "\n",
    "print(\"No of Item : \",count)"
   ]
  },
  {
   "cell_type": "code",
   "execution_count": 24,
   "id": "dbb1fffa-ad1e-4a84-9857-a9abd48bdbd0",
   "metadata": {},
   "outputs": [
    {
     "data": {
      "text/plain": [
       "array([39, 62, 65, 63, 39, 35, 29, 69, 67, 69, 47,  6, 32, 52, 10, 42, 19,\n",
       "       47, 57, 35, 67, 30,  1, 34, 51, 12, 52, 47, 22, 65, 58, 29, 36, 26,\n",
       "       31, 63, 64, 56, 51,  4, 17, 38, 56, 34,  2, 54, 57, 55, 47, 42, 20,\n",
       "       17, 30,  9,  4, 43, 38,  8, 29, 67,  5, 10, 59, 22, 30, 17, 32, 13,\n",
       "        9, 18, 35,  1, 26, 63, 59, 64, 48, 24, 22, 11, 53, 18, 39, 17, 55,\n",
       "       60, 53, 53, 30, 33, 22, 21, 22, 54, 34,  5, 55, 24, 63, 29,  1, 66,\n",
       "        9, 16])"
      ]
     },
     "execution_count": 24,
     "metadata": {},
     "output_type": "execute_result"
    }
   ],
   "source": [
    "#Creates a new array with elements from arr that are less than or equal to 70\n",
    "\n",
    "arr[arr<=70]"
   ]
  },
  {
   "cell_type": "code",
   "execution_count": 25,
   "id": "424b9fe8-3227-4681-81e3-9b143be12065",
   "metadata": {},
   "outputs": [
    {
     "data": {
      "text/plain": [
       "104"
      ]
     },
     "execution_count": 25,
     "metadata": {},
     "output_type": "execute_result"
    }
   ],
   "source": [
    "arr[arr<=70].size      #just adding '.size' funtion can tell number elements in a array"
   ]
  },
  {
   "cell_type": "markdown",
   "id": "ff64e5b0",
   "metadata": {},
   "source": [
    "The 'ndim' attribute in NumPy provides the number of dimensions of an array."
   ]
  },
  {
   "cell_type": "code",
   "execution_count": 26,
   "id": "2e558bdd-c41f-4ef5-af73-d292d1daa4de",
   "metadata": {},
   "outputs": [
    {
     "data": {
      "text/plain": [
       "1"
      ]
     },
     "execution_count": 26,
     "metadata": {},
     "output_type": "execute_result"
    }
   ],
   "source": [
    "arr.ndim"
   ]
  },
  {
   "cell_type": "markdown",
   "id": "98ccd093",
   "metadata": {},
   "source": [
    "Creating a 2d array using 1d array"
   ]
  },
  {
   "cell_type": "code",
   "execution_count": 27,
   "id": "44d62bba-b6b5-49b4-9c3e-1cf7fb103612",
   "metadata": {},
   "outputs": [
    {
     "data": {
      "text/plain": [
       "list"
      ]
     },
     "execution_count": 27,
     "metadata": {},
     "output_type": "execute_result"
    }
   ],
   "source": [
    "lst = [[1,2,3],[4,5,6],[7,8,9]]\n",
    "type(lst)"
   ]
  },
  {
   "cell_type": "code",
   "execution_count": 28,
   "id": "5bd0d46d-20fd-4878-ac2f-7522e4c6d47b",
   "metadata": {},
   "outputs": [
    {
     "data": {
      "text/plain": [
       "array([[1, 2, 3],\n",
       "       [4, 5, 6],\n",
       "       [7, 8, 9]])"
      ]
     },
     "execution_count": 28,
     "metadata": {},
     "output_type": "execute_result"
    }
   ],
   "source": [
    "arr = np.array(lst)\n",
    "arr "
   ]
  },
  {
   "cell_type": "code",
   "execution_count": 29,
   "id": "eea366e8-05ae-406b-a92b-346d156e00dc",
   "metadata": {},
   "outputs": [
    {
     "data": {
      "text/plain": [
       "2"
      ]
     },
     "execution_count": 29,
     "metadata": {},
     "output_type": "execute_result"
    }
   ],
   "source": [
    "arr.ndim   "
   ]
  },
  {
   "cell_type": "markdown",
   "id": "b49d8c91",
   "metadata": {},
   "source": [
    "The 'arr.shape' attribute provides information about the shape of a NumPy array. "
   ]
  },
  {
   "cell_type": "code",
   "execution_count": 30,
   "id": "6925350e-652a-4b63-b47b-3cee24e49e9e",
   "metadata": {},
   "outputs": [
    {
     "data": {
      "text/plain": [
       "(3, 3)"
      ]
     },
     "execution_count": 30,
     "metadata": {},
     "output_type": "execute_result"
    }
   ],
   "source": [
    "arr.shape\n",
    "# (row,column)"
   ]
  },
  {
   "cell_type": "code",
   "execution_count": 31,
   "id": "0b9b8776-0691-4baa-847f-3ddcf1391252",
   "metadata": {},
   "outputs": [
    {
     "data": {
      "text/plain": [
       "array([7, 8, 9])"
      ]
     },
     "execution_count": 31,
     "metadata": {},
     "output_type": "execute_result"
    }
   ],
   "source": [
    "arr[2]  # row single"
   ]
  },
  {
   "cell_type": "code",
   "execution_count": 32,
   "id": "e9f96f20-3dc3-4b3a-8cd2-600e5b0f40e1",
   "metadata": {},
   "outputs": [
    {
     "data": {
      "text/plain": [
       "array([[1, 2, 3],\n",
       "       [4, 5, 6]])"
      ]
     },
     "execution_count": 32,
     "metadata": {},
     "output_type": "execute_result"
    }
   ],
   "source": [
    "arr[0:2]   # multiple row "
   ]
  },
  {
   "cell_type": "code",
   "execution_count": 33,
   "id": "7e6733b2-6d9c-49bf-871c-dbc714af89cd",
   "metadata": {},
   "outputs": [
    {
     "data": {
      "text/plain": [
       "array([[5, 6],\n",
       "       [8, 9]])"
      ]
     },
     "execution_count": 33,
     "metadata": {},
     "output_type": "execute_result"
    }
   ],
   "source": [
    "arr[1:3,1:3]    #multiple rows and multiple columns simultaneously"
   ]
  },
  {
   "cell_type": "code",
   "execution_count": 34,
   "id": "f329905a-4665-46ad-8f3a-40dbe1831e7a",
   "metadata": {},
   "outputs": [
    {
     "data": {
      "text/plain": [
       "array([[ 50, 171,  47,  82, 107,  54],\n",
       "       [ 99, 112, 154,  34, 191, 173],\n",
       "       [ 91,  54,  33, 138,  52,  14],\n",
       "       [160, 175, 158, 152, 116,  95],\n",
       "       [154,  20, 100, 152, 144,  81],\n",
       "       [ 91, 107, 135,  59,  78, 160],\n",
       "       [144,  89,  69, 163,  79,   6],\n",
       "       [180, 102,  54, 107, 194, 191],\n",
       "       [185, 157, 103, 121, 116, 177],\n",
       "       [138,  61,  94,  71, 183, 162]])"
      ]
     },
     "execution_count": 34,
     "metadata": {},
     "output_type": "execute_result"
    }
   ],
   "source": [
    "arr2 = np.random.randint(1,200,(10,6))     #in between 1 - 200 range, rows - 10, columns - 6\n",
    "arr2 "
   ]
  },
  {
   "cell_type": "code",
   "execution_count": 35,
   "id": "36099630-5131-47d3-badd-ca2550388ade",
   "metadata": {},
   "outputs": [
    {
     "data": {
      "text/plain": [
       "array([[152, 144,  81],\n",
       "       [ 59,  78, 160],\n",
       "       [163,  79,   6],\n",
       "       [107, 194, 191],\n",
       "       [121, 116, 177]])"
      ]
     },
     "execution_count": 35,
     "metadata": {},
     "output_type": "execute_result"
    }
   ],
   "source": [
    "arr2[-6:-1,-3:]     # array slicing for rows and columns"
   ]
  },
  {
   "cell_type": "code",
   "execution_count": 36,
   "id": "d82c78c6-2794-47b2-b8b0-f77429194d30",
   "metadata": {},
   "outputs": [
    {
     "data": {
      "text/plain": [
       "array([[138,  61,  94,  71, 183, 162],\n",
       "       [185, 157, 103, 121, 116, 177],\n",
       "       [180, 102,  54, 107, 194, 191],\n",
       "       [144,  89,  69, 163,  79,   6],\n",
       "       [ 91, 107, 135,  59,  78, 160],\n",
       "       [154,  20, 100, 152, 144,  81],\n",
       "       [160, 175, 158, 152, 116,  95],\n",
       "       [ 91,  54,  33, 138,  52,  14],\n",
       "       [ 99, 112, 154,  34, 191, 173],\n",
       "       [ 50, 171,  47,  82, 107,  54]])"
      ]
     },
     "execution_count": 36,
     "metadata": {},
     "output_type": "execute_result"
    }
   ],
   "source": [
    "arr2[::-1]    #array[start:stop:step]"
   ]
  },
  {
   "cell_type": "code",
   "execution_count": 37,
   "id": "3c589fbd-cf2b-4256-84a8-1d70ed1331b0",
   "metadata": {},
   "outputs": [
    {
     "data": {
      "text/plain": [
       "array([[ 50, 171,  47,  82, 107,  54],\n",
       "       [ 99, 112, 154,  34, 191, 173],\n",
       "       [ 91,  54,  33, 138,  52,  14],\n",
       "       [160, 175, 158, 152, 116,  95],\n",
       "       [154,  20, 100, 152, 144,  81],\n",
       "       [ 91, 107, 135,  59,  78, 160],\n",
       "       [144,  89,  69, 163,  79,   6],\n",
       "       [180, 102,  54, 107, 194, 191],\n",
       "       [185, 157, 103, 121, 116, 177],\n",
       "       [138,  61,  94,  71, 183, 162]])"
      ]
     },
     "execution_count": 37,
     "metadata": {},
     "output_type": "execute_result"
    }
   ],
   "source": [
    "arr2 "
   ]
  },
  {
   "cell_type": "markdown",
   "id": "3e15a498",
   "metadata": {},
   "source": [
    "Changing element of a Array form a specific place"
   ]
  },
  {
   "cell_type": "code",
   "execution_count": 38,
   "id": "a1db884d-3725-4e85-8b56-e2ac72fce722",
   "metadata": {},
   "outputs": [
    {
     "data": {
      "text/plain": [
       "162"
      ]
     },
     "execution_count": 38,
     "metadata": {},
     "output_type": "execute_result"
    }
   ],
   "source": [
    "arr2[-1,-1]        #giving specific location of array we want change"
   ]
  },
  {
   "cell_type": "code",
   "execution_count": 39,
   "id": "d60cc810-23bb-4388-95a7-82fdde23caad",
   "metadata": {},
   "outputs": [],
   "source": [
    "arr2[-1,-1]  = 1000     # replacing value of array with we want to change"
   ]
  },
  {
   "cell_type": "code",
   "execution_count": 40,
   "id": "a79c8c45-4df4-44b2-99dd-deec65ed9604",
   "metadata": {},
   "outputs": [
    {
     "data": {
      "text/plain": [
       "1000"
      ]
     },
     "execution_count": 40,
     "metadata": {},
     "output_type": "execute_result"
    }
   ],
   "source": [
    "arr2[-1,-1]        #Confirimg the replaced value"
   ]
  },
  {
   "cell_type": "code",
   "execution_count": 41,
   "id": "966bf8db-6ff0-464d-9851-52a224566284",
   "metadata": {},
   "outputs": [
    {
     "data": {
      "text/plain": [
       "array([[  50,  171,   47,   82,  107,   54],\n",
       "       [  99,  112,  154,   34,  191,  173],\n",
       "       [  91,   54,   33,  138,   52,   14],\n",
       "       [ 160,  175,  158,  152,  116,   95],\n",
       "       [ 154,   20,  100,  152,  144,   81],\n",
       "       [  91,  107,  135,   59,   78,  160],\n",
       "       [ 144,   89,   69,  163,   79,    6],\n",
       "       [ 180,  102,   54,  107,  194,  191],\n",
       "       [ 185,  157,  103,  121,  116,  177],\n",
       "       [ 138,   61,   94,   71,  183, 1000]])"
      ]
     },
     "execution_count": 41,
     "metadata": {},
     "output_type": "execute_result"
    }
   ],
   "source": [
    "arr2 "
   ]
  },
  {
   "cell_type": "code",
   "execution_count": 42,
   "id": "9bacd679-48eb-4e3f-bc02-2f25e7b79d01",
   "metadata": {},
   "outputs": [],
   "source": [
    "arr2[0,3]=500          # Another example of changing the array value"
   ]
  },
  {
   "cell_type": "code",
   "execution_count": 43,
   "id": "feecda63-5b84-493a-ae9f-8c83acf01cf5",
   "metadata": {},
   "outputs": [
    {
     "data": {
      "text/plain": [
       "array([[  50,  171,   47,  500,  107,   54],\n",
       "       [  99,  112,  154,   34,  191,  173],\n",
       "       [  91,   54,   33,  138,   52,   14],\n",
       "       [ 160,  175,  158,  152,  116,   95],\n",
       "       [ 154,   20,  100,  152,  144,   81],\n",
       "       [  91,  107,  135,   59,   78,  160],\n",
       "       [ 144,   89,   69,  163,   79,    6],\n",
       "       [ 180,  102,   54,  107,  194,  191],\n",
       "       [ 185,  157,  103,  121,  116,  177],\n",
       "       [ 138,   61,   94,   71,  183, 1000]])"
      ]
     },
     "execution_count": 43,
     "metadata": {},
     "output_type": "execute_result"
    }
   ],
   "source": [
    "arr2"
   ]
  },
  {
   "cell_type": "code",
   "execution_count": 44,
   "id": "e5b96f76-b282-4863-a91b-343b2d6d3c92",
   "metadata": {},
   "outputs": [],
   "source": [
    "arr2[-10,-3] =  500          #using negative indexing"
   ]
  },
  {
   "cell_type": "code",
   "execution_count": 45,
   "id": "d6d2e32c-4238-4195-93ae-49bcbf3f8364",
   "metadata": {},
   "outputs": [],
   "source": [
    "arr2[0][3]  =  8000     #another method to denote row and columns"
   ]
  },
  {
   "cell_type": "code",
   "execution_count": 46,
   "id": "52dbe5e4-1e3e-42c5-b88b-012ca54ac6bd",
   "metadata": {},
   "outputs": [
    {
     "data": {
      "text/plain": [
       "array([[  50,  171,   47, 8000,  107,   54],\n",
       "       [  99,  112,  154,   34,  191,  173],\n",
       "       [  91,   54,   33,  138,   52,   14],\n",
       "       [ 160,  175,  158,  152,  116,   95],\n",
       "       [ 154,   20,  100,  152,  144,   81],\n",
       "       [  91,  107,  135,   59,   78,  160],\n",
       "       [ 144,   89,   69,  163,   79,    6],\n",
       "       [ 180,  102,   54,  107,  194,  191],\n",
       "       [ 185,  157,  103,  121,  116,  177],\n",
       "       [ 138,   61,   94,   71,  183, 1000]])"
      ]
     },
     "execution_count": 46,
     "metadata": {},
     "output_type": "execute_result"
    }
   ],
   "source": [
    "arr2 "
   ]
  },
  {
   "cell_type": "markdown",
   "id": "34e0feea",
   "metadata": {},
   "source": [
    "Creation a 3d array using 2d array"
   ]
  },
  {
   "cell_type": "code",
   "execution_count": 47,
   "id": "f7d47609-7dbb-4d9e-82fa-eba073d7b455",
   "metadata": {},
   "outputs": [
    {
     "data": {
      "text/plain": [
       "array([[[151,  40, 110,   1, 109],\n",
       "        [ 12,  83,  27,  98, 118],\n",
       "        [104, 148,  47, 187,  99],\n",
       "        [119, 144,  62, 101,  96],\n",
       "        [  9,  32,  27, 103, 188],\n",
       "        [ 71,  77,  95,  73,  52],\n",
       "        [119,  18,  55,  80,  17],\n",
       "        [137,  57, 175, 186, 136],\n",
       "        [134, 169,  22, 150,  38],\n",
       "        [153, 193, 100, 150, 184]],\n",
       "\n",
       "       [[ 57, 122,  63, 132,  67],\n",
       "        [146, 145,  55,  78,  78],\n",
       "        [ 41, 189, 158,  84, 177],\n",
       "        [166,  84,  32, 190,  97],\n",
       "        [ 93, 192, 113,  39,  69],\n",
       "        [110, 187, 138,  90,   3],\n",
       "        [ 65, 163, 180, 105,  10],\n",
       "        [ 16,  12,  91, 165, 114],\n",
       "        [195, 156, 147, 114, 194],\n",
       "        [193,  38,  19, 164, 133]],\n",
       "\n",
       "       [[ 66, 113,  56,  56, 153],\n",
       "        [185,   7, 162,  11,  52],\n",
       "        [117, 152,  40,   5,  48],\n",
       "        [ 53,  47,  74,  78, 156],\n",
       "        [102,  56, 113,  32,  20],\n",
       "        [ 72, 148, 175,  93, 158],\n",
       "        [153, 149, 181, 177,  70],\n",
       "        [113,  93,  32,  43,  38],\n",
       "        [ 55, 194,  16,  13,  64],\n",
       "        [175,  81, 119, 180, 113]],\n",
       "\n",
       "       [[161, 110,  88,  24,  32],\n",
       "        [155, 154,  60,  67,  77],\n",
       "        [ 13,  86,  81,  78,  91],\n",
       "        [147, 199, 195, 188, 128],\n",
       "        [ 67,  67, 180, 152,  50],\n",
       "        [165,  82, 197,   8,  36],\n",
       "        [ 53,  46, 169, 128, 197],\n",
       "        [ 11,  30,  80, 150, 197],\n",
       "        [ 83, 166, 144,  40,  69],\n",
       "        [ 30,   7, 102,  50,  59]],\n",
       "\n",
       "       [[ 95, 142, 110, 136,  68],\n",
       "        [ 24,  82, 187, 199,  52],\n",
       "        [113, 183, 114, 170, 197],\n",
       "        [ 75,  97,  70,  34, 138],\n",
       "        [  2,  85, 199, 162, 171],\n",
       "        [102,  46,  70,  24, 104],\n",
       "        [102, 114,  24,   9, 196],\n",
       "        [143,  52, 175,  84, 147],\n",
       "        [ 78,  10, 132,  77, 163],\n",
       "        [111, 104,  29, 181, 147]]])"
      ]
     },
     "execution_count": 47,
     "metadata": {},
     "output_type": "execute_result"
    }
   ],
   "source": [
    "# 3D = [2d,2d,2d]\n",
    "\n",
    "arr3d = np.random.randint(1,200,(5,10,5))       # in between 1-200 range, tables = 5, rows = 10, column = 5\n",
    "arr3d"
   ]
  },
  {
   "cell_type": "code",
   "execution_count": 48,
   "id": "298b2d36-49b7-4844-b959-155c1684d28a",
   "metadata": {},
   "outputs": [
    {
     "data": {
      "text/plain": [
       "(5, 10, 5)"
      ]
     },
     "execution_count": 48,
     "metadata": {},
     "output_type": "execute_result"
    }
   ],
   "source": [
    "arr3d.shape \n",
    "# (5, 10, 5) \n",
    "# 5  ==>  Tables \n",
    "# 10 ==>  Rows \n",
    "# 5  ==>  columns"
   ]
  },
  {
   "cell_type": "code",
   "execution_count": 49,
   "id": "23ee1473-98b2-4e26-8f61-a7103a09c726",
   "metadata": {},
   "outputs": [
    {
     "data": {
      "text/plain": [
       "3"
      ]
     },
     "execution_count": 49,
     "metadata": {},
     "output_type": "execute_result"
    }
   ],
   "source": [
    "arr3d.ndim "
   ]
  },
  {
   "cell_type": "code",
   "execution_count": 50,
   "id": "80d5c0cd-6bbe-453a-b2a2-bf54bbf52d9a",
   "metadata": {},
   "outputs": [
    {
     "data": {
      "text/plain": [
       "array([[151,  40, 110,   1, 109],\n",
       "       [ 12,  83,  27,  98, 118],\n",
       "       [104, 148,  47, 187,  99],\n",
       "       [119, 144,  62, 101,  96],\n",
       "       [  9,  32,  27, 103, 188],\n",
       "       [ 71,  77,  95,  73,  52],\n",
       "       [119,  18,  55,  80,  17],\n",
       "       [137,  57, 175, 186, 136],\n",
       "       [134, 169,  22, 150,  38],\n",
       "       [153, 193, 100, 150, 184]])"
      ]
     },
     "execution_count": 50,
     "metadata": {},
     "output_type": "execute_result"
    }
   ],
   "source": [
    "arr3d[0]   # table "
   ]
  },
  {
   "cell_type": "code",
   "execution_count": 51,
   "id": "d93a34c1-1ddd-471b-aec8-aa6740cc16ee",
   "metadata": {},
   "outputs": [
    {
     "data": {
      "text/plain": [
       "array([[[151,  40, 110,   1, 109],\n",
       "        [ 12,  83,  27,  98, 118],\n",
       "        [104, 148,  47, 187,  99],\n",
       "        [119, 144,  62, 101,  96],\n",
       "        [  9,  32,  27, 103, 188],\n",
       "        [ 71,  77,  95,  73,  52],\n",
       "        [119,  18,  55,  80,  17],\n",
       "        [137,  57, 175, 186, 136],\n",
       "        [134, 169,  22, 150,  38],\n",
       "        [153, 193, 100, 150, 184]],\n",
       "\n",
       "       [[ 57, 122,  63, 132,  67],\n",
       "        [146, 145,  55,  78,  78],\n",
       "        [ 41, 189, 158,  84, 177],\n",
       "        [166,  84,  32, 190,  97],\n",
       "        [ 93, 192, 113,  39,  69],\n",
       "        [110, 187, 138,  90,   3],\n",
       "        [ 65, 163, 180, 105,  10],\n",
       "        [ 16,  12,  91, 165, 114],\n",
       "        [195, 156, 147, 114, 194],\n",
       "        [193,  38,  19, 164, 133]],\n",
       "\n",
       "       [[ 66, 113,  56,  56, 153],\n",
       "        [185,   7, 162,  11,  52],\n",
       "        [117, 152,  40,   5,  48],\n",
       "        [ 53,  47,  74,  78, 156],\n",
       "        [102,  56, 113,  32,  20],\n",
       "        [ 72, 148, 175,  93, 158],\n",
       "        [153, 149, 181, 177,  70],\n",
       "        [113,  93,  32,  43,  38],\n",
       "        [ 55, 194,  16,  13,  64],\n",
       "        [175,  81, 119, 180, 113]],\n",
       "\n",
       "       [[161, 110,  88,  24,  32],\n",
       "        [155, 154,  60,  67,  77],\n",
       "        [ 13,  86,  81,  78,  91],\n",
       "        [147, 199, 195, 188, 128],\n",
       "        [ 67,  67, 180, 152,  50],\n",
       "        [165,  82, 197,   8,  36],\n",
       "        [ 53,  46, 169, 128, 197],\n",
       "        [ 11,  30,  80, 150, 197],\n",
       "        [ 83, 166, 144,  40,  69],\n",
       "        [ 30,   7, 102,  50,  59]],\n",
       "\n",
       "       [[ 95, 142, 110, 136,  68],\n",
       "        [ 24,  82, 187, 199,  52],\n",
       "        [113, 183, 114, 170, 197],\n",
       "        [ 75,  97,  70,  34, 138],\n",
       "        [  2,  85, 199, 162, 171],\n",
       "        [102,  46,  70,  24, 104],\n",
       "        [102, 114,  24,   9, 196],\n",
       "        [143,  52, 175,  84, 147],\n",
       "        [ 78,  10, 132,  77, 163],\n",
       "        [111, 104,  29, 181, 147]]])"
      ]
     },
     "execution_count": 51,
     "metadata": {},
     "output_type": "execute_result"
    }
   ],
   "source": [
    "arr3d"
   ]
  },
  {
   "cell_type": "code",
   "execution_count": 52,
   "id": "cd8405e2-fa17-495e-bdfd-c3b0040e1140",
   "metadata": {},
   "outputs": [
    {
     "data": {
      "text/plain": [
       "147"
      ]
     },
     "execution_count": 52,
     "metadata": {},
     "output_type": "execute_result"
    }
   ],
   "source": [
    "arr3d[-1,-1,-1]    # retreating value of array by defining specific location"
   ]
  },
  {
   "cell_type": "code",
   "execution_count": 85,
   "id": "6731418d-d55d-422b-a408-6c9e851612ca",
   "metadata": {},
   "outputs": [
    {
     "data": {
      "text/plain": [
       "array([ 0,  1,  2,  3,  4,  5,  6,  7,  8,  9, 10, 11, 12, 13, 14, 15, 16,\n",
       "       17, 18, 19, 20, 21, 22, 23, 24, 25, 26, 27, 28, 29, 30, 31, 32, 33,\n",
       "       34, 35, 36, 37, 38, 39, 40, 41, 42, 43, 44, 45, 46, 47, 48, 49, 50,\n",
       "       51, 52, 53, 54, 55, 56, 57, 58, 59])"
      ]
     },
     "execution_count": 85,
     "metadata": {},
     "output_type": "execute_result"
    }
   ],
   "source": [
    "arr = np.arange(60)    #1-D\n",
    "arr "
   ]
  },
  {
   "cell_type": "markdown",
   "id": "9e1766be",
   "metadata": {},
   "source": [
    "Changing dimensions of array"
   ]
  },
  {
   "cell_type": "code",
   "execution_count": 87,
   "id": "ec1fefc3-5b19-4f97-ab8d-7edf6b99814e",
   "metadata": {},
   "outputs": [
    {
     "data": {
      "text/plain": [
       "array([[ 0,  1,  2],\n",
       "       [ 3,  4,  5],\n",
       "       [ 6,  7,  8],\n",
       "       [ 9, 10, 11],\n",
       "       [12, 13, 14],\n",
       "       [15, 16, 17],\n",
       "       [18, 19, 20],\n",
       "       [21, 22, 23],\n",
       "       [24, 25, 26],\n",
       "       [27, 28, 29],\n",
       "       [30, 31, 32],\n",
       "       [33, 34, 35],\n",
       "       [36, 37, 38],\n",
       "       [39, 40, 41],\n",
       "       [42, 43, 44],\n",
       "       [45, 46, 47],\n",
       "       [48, 49, 50],\n",
       "       [51, 52, 53],\n",
       "       [54, 55, 56],\n",
       "       [57, 58, 59]])"
      ]
     },
     "execution_count": 87,
     "metadata": {},
     "output_type": "execute_result"
    }
   ],
   "source": [
    "arr2 = arr.reshape(20,3)  # 20 , 3    #Changed 1d array to 2d array\n",
    "arr2"
   ]
  },
  {
   "cell_type": "code",
   "execution_count": 88,
   "id": "f3629797-5075-4bc0-9a3b-bef02bd90a79",
   "metadata": {},
   "outputs": [
    {
     "data": {
      "text/plain": [
       "array([[[ 0,  1],\n",
       "        [ 2,  3],\n",
       "        [ 4,  5],\n",
       "        [ 6,  7],\n",
       "        [ 8,  9],\n",
       "        [10, 11],\n",
       "        [12, 13],\n",
       "        [14, 15],\n",
       "        [16, 17],\n",
       "        [18, 19],\n",
       "        [20, 21],\n",
       "        [22, 23],\n",
       "        [24, 25],\n",
       "        [26, 27],\n",
       "        [28, 29]],\n",
       "\n",
       "       [[30, 31],\n",
       "        [32, 33],\n",
       "        [34, 35],\n",
       "        [36, 37],\n",
       "        [38, 39],\n",
       "        [40, 41],\n",
       "        [42, 43],\n",
       "        [44, 45],\n",
       "        [46, 47],\n",
       "        [48, 49],\n",
       "        [50, 51],\n",
       "        [52, 53],\n",
       "        [54, 55],\n",
       "        [56, 57],\n",
       "        [58, 59]]])"
      ]
     },
     "execution_count": 88,
     "metadata": {},
     "output_type": "execute_result"
    }
   ],
   "source": [
    "arr3 = arr.reshape(2,15,2)    # converting 1-d array into 2-d array\n",
    "arr3"
   ]
  },
  {
   "cell_type": "code",
   "execution_count": 89,
   "id": "77532b41",
   "metadata": {},
   "outputs": [
    {
     "data": {
      "text/plain": [
       "array([[ 0,  1,  2,  3,  4,  5],\n",
       "       [ 6,  7,  8,  9, 10, 11],\n",
       "       [12, 13, 14, 15, 16, 17],\n",
       "       [18, 19, 20, 21, 22, 23],\n",
       "       [24, 25, 26, 27, 28, 29],\n",
       "       [30, 31, 32, 33, 34, 35],\n",
       "       [36, 37, 38, 39, 40, 41],\n",
       "       [42, 43, 44, 45, 46, 47],\n",
       "       [48, 49, 50, 51, 52, 53],\n",
       "       [54, 55, 56, 57, 58, 59]])"
      ]
     },
     "execution_count": 89,
     "metadata": {},
     "output_type": "execute_result"
    }
   ],
   "source": [
    "arr4 = arr3.reshape (10,6)      #converting 3d array into 2d\n",
    "arr4"
   ]
  },
  {
   "cell_type": "code",
   "execution_count": 57,
   "id": "3e7ac867-bb4a-40e6-a40c-ffd9e90635e0",
   "metadata": {},
   "outputs": [
    {
     "data": {
      "text/plain": [
       "array([ 0,  1,  2,  3,  4,  5,  6,  7,  8,  9, 10, 11, 12, 13, 14, 15, 16,\n",
       "       17, 18, 19, 20, 21, 22, 23, 24, 25, 26, 27, 28, 29, 30, 31, 32, 33,\n",
       "       34, 35, 36, 37, 38, 39, 40, 41, 42, 43, 44, 45, 46, 47, 48, 49, 50,\n",
       "       51, 52, 53, 54, 55, 56, 57, 58, 59])"
      ]
     },
     "execution_count": 57,
     "metadata": {},
     "output_type": "execute_result"
    }
   ],
   "source": [
    "arr3.ravel()   #3d array conversion to 1d array"
   ]
  },
  {
   "cell_type": "code",
   "execution_count": 58,
   "id": "c530c7f6-69a0-43ed-a286-dfead5a8da97",
   "metadata": {},
   "outputs": [
    {
     "data": {
      "text/plain": [
       "array([ 0,  1,  2,  3,  4,  5,  6,  7,  8,  9, 10, 11, 12, 13, 14, 15, 16,\n",
       "       17, 18, 19, 20, 21, 22, 23, 24, 25, 26, 27, 28, 29, 30, 31, 32, 33,\n",
       "       34, 35, 36, 37, 38, 39, 40, 41, 42, 43, 44, 45, 46, 47, 48, 49, 50,\n",
       "       51, 52, 53, 54, 55, 56, 57, 58, 59])"
      ]
     },
     "execution_count": 58,
     "metadata": {},
     "output_type": "execute_result"
    }
   ],
   "source": [
    "arr2.flatten()    #3d array conversion to 1d array"
   ]
  },
  {
   "cell_type": "code",
   "execution_count": 59,
   "id": "bf605339-30bb-48ff-85cd-cc20c15e72f0",
   "metadata": {},
   "outputs": [
    {
     "data": {
      "text/plain": [
       "array([[160,   3,  93],\n",
       "       [ 48, 135,  32],\n",
       "       [133, 133,  92],\n",
       "       [127, 159,  33],\n",
       "       [ 38,   2,  88]])"
      ]
     },
     "execution_count": 59,
     "metadata": {},
     "output_type": "execute_result"
    }
   ],
   "source": [
    "arr = np.random.randint(1,200,(5,3))     # in between 1-200, 5 rows and 3 columns\n",
    "arr "
   ]
  },
  {
   "cell_type": "code",
   "execution_count": 60,
   "id": "47ecbbe2-fad8-422c-9581-a54e8f0f2ca1",
   "metadata": {},
   "outputs": [
    {
     "data": {
      "text/plain": [
       "(5, 3)"
      ]
     },
     "execution_count": 60,
     "metadata": {},
     "output_type": "execute_result"
    }
   ],
   "source": [
    "arr.shape      #checking dimensions of array"
   ]
  },
  {
   "cell_type": "markdown",
   "id": "59a9a1b1",
   "metadata": {},
   "source": [
    "'transpose' is a function used to reverse or permute the axes of an array"
   ]
  },
  {
   "cell_type": "code",
   "execution_count": 61,
   "id": "96099b9b-d5b1-4b56-8cdc-cdfc4ca9dfca",
   "metadata": {},
   "outputs": [
    {
     "data": {
      "text/plain": [
       "array([[160,  48, 133, 127,  38],\n",
       "       [  3, 135, 133, 159,   2],\n",
       "       [ 93,  32,  92,  33,  88]])"
      ]
     },
     "execution_count": 61,
     "metadata": {},
     "output_type": "execute_result"
    }
   ],
   "source": [
    "np.transpose(arr)     #changed rows - 3 and columns - 5"
   ]
  },
  {
   "cell_type": "code",
   "execution_count": 62,
   "id": "265948d5-4d33-4ff6-93c3-e890c5d76317",
   "metadata": {},
   "outputs": [
    {
     "data": {
      "text/plain": [
       "(3, 5)"
      ]
     },
     "execution_count": 62,
     "metadata": {},
     "output_type": "execute_result"
    }
   ],
   "source": [
    "np.transpose(arr).shape "
   ]
  },
  {
   "cell_type": "code",
   "execution_count": 63,
   "id": "babe1ec9-3547-47df-a8d1-f6b5935a2a8d",
   "metadata": {},
   "outputs": [
    {
     "data": {
      "text/plain": [
       "array([[160,  48, 133, 127,  38],\n",
       "       [  3, 135, 133, 159,   2],\n",
       "       [ 93,  32,  92,  33,  88]])"
      ]
     },
     "execution_count": 63,
     "metadata": {},
     "output_type": "execute_result"
    }
   ],
   "source": [
    "arr.T    # Using 'T' instead of 'transpose'"
   ]
  },
  {
   "cell_type": "code",
   "execution_count": 64,
   "id": "e6e6dfeb-286b-4aa7-a46a-c14937423fb9",
   "metadata": {},
   "outputs": [
    {
     "data": {
      "text/plain": [
       "array([160,   3,  93,  48, 135,  32, 133, 133,  92, 127, 159,  33,  38,\n",
       "         2,  88])"
      ]
     },
     "execution_count": 64,
     "metadata": {},
     "output_type": "execute_result"
    }
   ],
   "source": [
    "arr2= arr.ravel()\n",
    "arr2"
   ]
  },
  {
   "cell_type": "markdown",
   "id": "865fbdbc",
   "metadata": {},
   "source": [
    "Some basic numerical use of Numpy library"
   ]
  },
  {
   "cell_type": "code",
   "execution_count": 65,
   "id": "53a7cb74-aa15-40cf-8ea7-b2af0c4e6a3b",
   "metadata": {},
   "outputs": [
    {
     "data": {
      "text/plain": [
       "85.06666666666666"
      ]
     },
     "execution_count": 65,
     "metadata": {},
     "output_type": "execute_result"
    }
   ],
   "source": [
    "arr2.mean()     #mean()    #max()  #min()"
   ]
  },
  {
   "cell_type": "code",
   "execution_count": 66,
   "id": "c2e54696-a08e-43e5-995b-6d68324d7cec",
   "metadata": {},
   "outputs": [
    {
     "data": {
      "text/plain": [
       "92.0"
      ]
     },
     "execution_count": 66,
     "metadata": {},
     "output_type": "execute_result"
    }
   ],
   "source": [
    "np.median(arr2)    #middle value"
   ]
  },
  {
   "cell_type": "code",
   "execution_count": 67,
   "id": "8806ae19-b6ba-4ef3-9531-fdceb40ce265",
   "metadata": {},
   "outputs": [
    {
     "data": {
      "text/plain": [
       "array([9, 7, 8])"
      ]
     },
     "execution_count": 67,
     "metadata": {},
     "output_type": "execute_result"
    }
   ],
   "source": [
    "arr = np.array([9,7,8])\n",
    "arr "
   ]
  },
  {
   "cell_type": "code",
   "execution_count": 68,
   "id": "17257c78-a8a7-4429-993f-3571f0684d42",
   "metadata": {},
   "outputs": [
    {
     "data": {
      "text/plain": [
       "1"
      ]
     },
     "execution_count": 68,
     "metadata": {},
     "output_type": "execute_result"
    }
   ],
   "source": [
    "arr.argmin()    #\"arg\" stands for \"argument\" refers to the input value that a function takes."
   ]
  },
  {
   "cell_type": "code",
   "execution_count": 69,
   "id": "a6159e2b-d11f-4bee-9d0b-a61e70be86e0",
   "metadata": {},
   "outputs": [
    {
     "data": {
      "text/plain": [
       "0"
      ]
     },
     "execution_count": 69,
     "metadata": {},
     "output_type": "execute_result"
    }
   ],
   "source": [
    "arr.argmax()"
   ]
  },
  {
   "cell_type": "code",
   "execution_count": 70,
   "id": "fe588668-e8ec-4ffe-8f74-60849e42b420",
   "metadata": {},
   "outputs": [
    {
     "data": {
      "text/plain": [
       "array([9, 7, 8])"
      ]
     },
     "execution_count": 70,
     "metadata": {},
     "output_type": "execute_result"
    }
   ],
   "source": [
    "arr "
   ]
  },
  {
   "cell_type": "code",
   "execution_count": 71,
   "id": "313751a0-ec9f-4576-bb8e-57706d557861",
   "metadata": {},
   "outputs": [],
   "source": [
    "arr.sort()  # ascending order "
   ]
  },
  {
   "cell_type": "code",
   "execution_count": 72,
   "id": "c9927f76-46ac-44af-9dee-0f0827d1667d",
   "metadata": {},
   "outputs": [
    {
     "data": {
      "text/plain": [
       "array([7, 8, 9])"
      ]
     },
     "execution_count": 72,
     "metadata": {},
     "output_type": "execute_result"
    }
   ],
   "source": [
    "arr "
   ]
  },
  {
   "cell_type": "code",
   "execution_count": 73,
   "id": "9eeda21d-d4fb-4404-b2d2-0bddb58d2468",
   "metadata": {},
   "outputs": [
    {
     "data": {
      "text/plain": [
       "array([9, 8, 7])"
      ]
     },
     "execution_count": 73,
     "metadata": {},
     "output_type": "execute_result"
    }
   ],
   "source": [
    "arr[::-1]   # descending order "
   ]
  },
  {
   "cell_type": "code",
   "execution_count": 74,
   "id": "1b2bd844-f6be-46a4-9363-780fdf2a62a5",
   "metadata": {},
   "outputs": [
    {
     "data": {
      "text/plain": [
       "array([9, 7, 8])"
      ]
     },
     "execution_count": 74,
     "metadata": {},
     "output_type": "execute_result"
    }
   ],
   "source": [
    "arr = np.array([9,7,8])\n",
    "arr "
   ]
  },
  {
   "cell_type": "code",
   "execution_count": 75,
   "id": "e9a44bc0-c8c1-4b0b-aa6e-c27fa1686249",
   "metadata": {},
   "outputs": [
    {
     "data": {
      "text/plain": [
       "array([9, 7, 8])"
      ]
     },
     "execution_count": 75,
     "metadata": {},
     "output_type": "execute_result"
    }
   ],
   "source": [
    "arr "
   ]
  },
  {
   "cell_type": "code",
   "execution_count": 76,
   "id": "adabf6dc-092a-4774-aa97-cc30dcb2c9ac",
   "metadata": {},
   "outputs": [
    {
     "data": {
      "text/plain": [
       "array([1, 2, 0], dtype=int64)"
      ]
     },
     "execution_count": 76,
     "metadata": {},
     "output_type": "execute_result"
    }
   ],
   "source": [
    "arr.argsort()  # [7,8,9] "
   ]
  }
 ],
 "metadata": {
  "kernelspec": {
   "display_name": "Python 3 (ipykernel)",
   "language": "python",
   "name": "python3"
  },
  "language_info": {
   "codemirror_mode": {
    "name": "ipython",
    "version": 3
   },
   "file_extension": ".py",
   "mimetype": "text/x-python",
   "name": "python",
   "nbconvert_exporter": "python",
   "pygments_lexer": "ipython3",
   "version": "3.12.4"
  }
 },
 "nbformat": 4,
 "nbformat_minor": 5
}
