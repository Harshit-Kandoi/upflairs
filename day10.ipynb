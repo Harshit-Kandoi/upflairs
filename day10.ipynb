{
 "cells": [
  {
   "cell_type": "code",
   "execution_count": 7,
   "metadata": {},
   "outputs": [],
   "source": [
    "class student:..."
   ]
  },
  {
   "cell_type": "code",
   "execution_count": 8,
   "metadata": {},
   "outputs": [],
   "source": [
    "class Student:\n",
    "    # properties \n",
    "    # class variable \n",
    "     student_names = ['mohit','rohit','jasprit','ronak']\n",
    "     student_class = 3 \n",
    "     student_branch = \"computer science engineering\" \n",
    "     college_name = \"IET Lucknow\""
   ]
  },
  {
   "cell_type": "code",
   "execution_count": 9,
   "metadata": {},
   "outputs": [
    {
     "name": "stdout",
     "output_type": "stream",
     "text": [
      "computer science engineering\n"
     ]
    }
   ],
   "source": [
    "print(Student.student_branch)"
   ]
  },
  {
   "cell_type": "code",
   "execution_count": 10,
   "metadata": {},
   "outputs": [],
   "source": [
    "obj = Student()  # object or intance initilaization"
   ]
  },
  {
   "cell_type": "code",
   "execution_count": 11,
   "metadata": {},
   "outputs": [
    {
     "data": {
      "text/plain": [
       "['mohit', 'rohit', 'jasprit', 'ronak']"
      ]
     },
     "execution_count": 11,
     "metadata": {},
     "output_type": "execute_result"
    }
   ],
   "source": [
    "\n",
    "obj.student_names"
   ]
  },
  {
   "cell_type": "code",
   "execution_count": 12,
   "metadata": {},
   "outputs": [
    {
     "data": {
      "text/plain": [
       "'computer science engineering'"
      ]
     },
     "execution_count": 12,
     "metadata": {},
     "output_type": "execute_result"
    }
   ],
   "source": [
    "obj.student_branch"
   ]
  },
  {
   "cell_type": "code",
   "execution_count": 1,
   "metadata": {},
   "outputs": [],
   "source": [
    "# instance variable    # R \n",
    "class Student:\n",
    "    # class variable \n",
    "     college_name = \"IET Lucknow\"\n",
    "\n",
    "     # constructor to create or initialaize  instance variable \n",
    "     def __init__(self):\n",
    "        # instance variable \n",
    "        self.student_names = ['mohit','rohit','jasprit','ronak']\n",
    "        self.student_class = 3 \n",
    "        self.student_branch = \"computer science engineering\"\n",
    "        print(\"Constructor executed\")\n"
   ]
  },
  {
   "cell_type": "code",
   "execution_count": 14,
   "metadata": {},
   "outputs": [
    {
     "name": "stdout",
     "output_type": "stream",
     "text": [
      "Constructor executed\n"
     ]
    }
   ],
   "source": [
    "stud_obj = Student()"
   ]
  },
  {
   "cell_type": "code",
   "execution_count": 15,
   "metadata": {},
   "outputs": [
    {
     "data": {
      "text/plain": [
       "'IET Lucknow'"
      ]
     },
     "execution_count": 15,
     "metadata": {},
     "output_type": "execute_result"
    }
   ],
   "source": [
    "stud_obj.college_name"
   ]
  },
  {
   "cell_type": "code",
   "execution_count": 16,
   "metadata": {},
   "outputs": [
    {
     "name": "stdout",
     "output_type": "stream",
     "text": [
      "Constructor executed\n"
     ]
    }
   ],
   "source": [
    "stud_obj = Student()"
   ]
  },
  {
   "cell_type": "code",
   "execution_count": 17,
   "metadata": {},
   "outputs": [
    {
     "data": {
      "text/plain": [
       "'computer science engineering'"
      ]
     },
     "execution_count": 17,
     "metadata": {},
     "output_type": "execute_result"
    }
   ],
   "source": [
    "stud_obj.student_branch"
   ]
  },
  {
   "cell_type": "code",
   "execution_count": 18,
   "metadata": {},
   "outputs": [],
   "source": [
    "stud_obj.student_branch = \"Information technology\""
   ]
  },
  {
   "cell_type": "code",
   "execution_count": 19,
   "metadata": {},
   "outputs": [
    {
     "data": {
      "text/plain": [
       "'Information technology'"
      ]
     },
     "execution_count": 19,
     "metadata": {},
     "output_type": "execute_result"
    }
   ],
   "source": [
    "stud_obj.student_branch"
   ]
  },
  {
   "cell_type": "code",
   "execution_count": 20,
   "metadata": {},
   "outputs": [
    {
     "name": "stdout",
     "output_type": "stream",
     "text": [
      "Constructor executed\n"
     ]
    }
   ],
   "source": [
    "stud_obje2 = Student()   "
   ]
  },
  {
   "cell_type": "code",
   "execution_count": 21,
   "metadata": {},
   "outputs": [
    {
     "data": {
      "text/plain": [
       "'computer science engineering'"
      ]
     },
     "execution_count": 21,
     "metadata": {},
     "output_type": "execute_result"
    }
   ],
   "source": [
    "\n",
    "stud_obje2.student_branch"
   ]
  },
  {
   "cell_type": "code",
   "execution_count": 22,
   "metadata": {},
   "outputs": [
    {
     "data": {
      "text/plain": [
       "20"
      ]
     },
     "execution_count": 22,
     "metadata": {},
     "output_type": "execute_result"
    }
   ],
   "source": [
    "obj.var = 20\n",
    "obj.var"
   ]
  },
  {
   "cell_type": "code",
   "execution_count": 23,
   "metadata": {},
   "outputs": [],
   "source": [
    "def __init__():\n",
    "    return a + b"
   ]
  },
  {
   "cell_type": "code",
   "execution_count": null,
   "metadata": {},
   "outputs": [],
   "source": [
    "# for(int i=0;i<=10;i++){\n",
    "#     block of code \n",
    "# }"
   ]
  },
  {
   "cell_type": "code",
   "execution_count": null,
   "metadata": {},
   "outputs": [],
   "source": [
    "\n",
    "# for i in range(10):\n",
    "#     block of code "
   ]
  },
  {
   "cell_type": "code",
   "execution_count": 25,
   "metadata": {},
   "outputs": [
    {
     "name": "stdout",
     "output_type": "stream",
     "text": [
      "Constructor executed\n"
     ]
    },
    {
     "data": {
      "text/plain": [
       "['mohit', 'rohit', 'jasprit', 'ronak']"
      ]
     },
     "execution_count": 25,
     "metadata": {},
     "output_type": "execute_result"
    }
   ],
   "source": [
    "first_year = Student()\n",
    "first_year.student_names"
   ]
  },
  {
   "cell_type": "code",
   "execution_count": null,
   "metadata": {},
   "outputs": [],
   "source": [
    "class Student:\n",
    "    # class variable \n",
    "     college_name = \"IET Lucknow\"\n",
    "\n",
    "     # constructor to create or initialaize  instance variable \n",
    "     def __init__(self, name, clas, branch):\n",
    "        # instance variable \n",
    "        self.student_names = name\n",
    "        self.student_class = clas\n",
    "        self.student_branch = branch\n",
    "        print(\"Constructor executed\")\n",
    "\n",
    "    #function or methods\n",
    "     def no_of_student(self):\n",
    "        count = len(self.student_names)\n",
    "        print(\"your no of student is : \", count)\n",
    "\n",
    "#self.student_names  #it refrenece to the object"
   ]
  },
  {
   "cell_type": "code",
   "execution_count": null,
   "metadata": {},
   "outputs": [
    {
     "name": "stdout",
     "output_type": "stream",
     "text": [
      "Constructor executed\n",
      "Constructor executed\n"
     ]
    }
   ],
   "source": [
    "first_year = Student(name=['mohit','rohit'], clas=1, branch='CSE')\n",
    "second_year = Student(name=['rakesh', 'rocky'],clas=2, branch = 'CSE')"
   ]
  },
  {
   "cell_type": "code",
   "execution_count": null,
   "metadata": {},
   "outputs": [
    {
     "name": "stdout",
     "output_type": "stream",
     "text": [
      "['mohit', 'rohit']\n",
      "['rakesh', 'rocky']\n"
     ]
    }
   ],
   "source": [
    "print(first_year.student_names)  # Output: ['mohit', 'rohit']\n",
    "print(second_year.student_names) # Output: ['rakesh', 'rocky']"
   ]
  },
  {
   "cell_type": "code",
   "execution_count": null,
   "metadata": {},
   "outputs": [
    {
     "name": "stdout",
     "output_type": "stream",
     "text": [
      "your no of student is :  2\n"
     ]
    }
   ],
   "source": [
    "first_year.no_of_student()"
   ]
  },
  {
   "cell_type": "code",
   "execution_count": 26,
   "metadata": {},
   "outputs": [],
   "source": [
    "class Student:\n",
    "    # class variable \n",
    "     college_name = \"IET Lucknow\"\n",
    "\n",
    "     # constructor to create or initialaize  instance variable \n",
    "     def __init__(self, name, clas, branch,marks):\n",
    "        # instance variable \n",
    "        self.student_names = name\n",
    "        self.student_class = clas\n",
    "        self.student_branch = branch\n",
    "        self.student_marks = marks\n",
    "        print(\"Constructor executed\")\n",
    "\n",
    "    #function or methods\n",
    "     def no_of_student(self):\n",
    "        count = len(self.student_names)\n",
    "        print(\"your no of student is : \", count)\n",
    "\n",
    "     def pass_or_fail_program(self):\n",
    "        fails = 0\n",
    "        passes = 0\n",
    "        for item in self.student_marks:\n",
    "            if item < 30:\n",
    "                # print(\"Fail\", item)\n",
    "                fails += 1\n",
    "            else:\n",
    "                # print(\"Pass\", item)\n",
    "                passes += 1\n",
    "        print(\"Number of failures: \", fails)\n",
    "        print(\"Number of students passed: \", passes)\n",
    "\n",
    "#self.student_names  #it refrenece to the object"
   ]
  },
  {
   "cell_type": "code",
   "execution_count": 27,
   "metadata": {},
   "outputs": [
    {
     "name": "stdout",
     "output_type": "stream",
     "text": [
      "Constructor executed\n"
     ]
    }
   ],
   "source": [
    "first_year = Student(name=['mohit','rohit'], clas=1, branch='CSE', marks = [34,23,23,45,56,78,56,36,23,1,88])"
   ]
  },
  {
   "cell_type": "code",
   "execution_count": 28,
   "metadata": {},
   "outputs": [
    {
     "name": "stdout",
     "output_type": "stream",
     "text": [
      "Number of failures:  4\n",
      "Number of students passed:  7\n"
     ]
    }
   ],
   "source": [
    "first_year.pass_or_fail_program()"
   ]
  },
  {
   "cell_type": "code",
   "execution_count": null,
   "metadata": {},
   "outputs": [],
   "source": []
  },
  {
   "cell_type": "code",
   "execution_count": null,
   "metadata": {},
   "outputs": [],
   "source": []
  },
  {
   "cell_type": "code",
   "execution_count": null,
   "metadata": {},
   "outputs": [],
   "source": []
  },
  {
   "cell_type": "code",
   "execution_count": null,
   "metadata": {},
   "outputs": [],
   "source": []
  },
  {
   "cell_type": "code",
   "execution_count": null,
   "metadata": {},
   "outputs": [],
   "source": []
  },
  {
   "cell_type": "code",
   "execution_count": null,
   "metadata": {},
   "outputs": [],
   "source": []
  },
  {
   "cell_type": "code",
   "execution_count": null,
   "metadata": {},
   "outputs": [],
   "source": []
  }
 ],
 "metadata": {
  "kernelspec": {
   "display_name": "Python 3",
   "language": "python",
   "name": "python3"
  },
  "language_info": {
   "codemirror_mode": {
    "name": "ipython",
    "version": 3
   },
   "file_extension": ".py",
   "mimetype": "text/x-python",
   "name": "python",
   "nbconvert_exporter": "python",
   "pygments_lexer": "ipython3",
   "version": "3.12.4"
  }
 },
 "nbformat": 4,
 "nbformat_minor": 2
}
